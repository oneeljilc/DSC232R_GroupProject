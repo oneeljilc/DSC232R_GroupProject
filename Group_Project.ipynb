{
  "cells": [
    {
      "cell_type": "markdown",
      "id": "6ebe255e-3a4f-44af-9ef3-7960e2a4a879",
      "metadata": {
        "id": "6ebe255e-3a4f-44af-9ef3-7960e2a4a879"
      },
      "source": [
        "# Part 0: Raw Data & Environment Set-up"
      ]
    },
    {
      "cell_type": "markdown",
      "id": "87ce0912-dc4a-4d9d-8dc4-588c9d756224",
      "metadata": {
        "jp-MarkdownHeadingCollapsed": true,
        "id": "87ce0912-dc4a-4d9d-8dc4-588c9d756224"
      },
      "source": [
        "## Part 0.a. Raw Data"
      ]
    },
    {
      "cell_type": "markdown",
      "id": "1df7e34c-3466-4d1a-b2b3-bfde676872b6",
      "metadata": {
        "id": "1df7e34c-3466-4d1a-b2b3-bfde676872b6"
      },
      "source": [
        "The following code loads in and unzips the raw data. Raw data has been downloaded from Kaggle placed into public Google Cloud Storage for ease of access."
      ]
    },
    {
      "cell_type": "code",
      "execution_count": null,
      "id": "a2bd2891-a891-416f-b976-1e7fce14d3d2",
      "metadata": {
        "id": "a2bd2891-a891-416f-b976-1e7fce14d3d2"
      },
      "outputs": [],
      "source": [
        "# Loads in steam-reviews.zip (game reviews)\n",
        "url1 = (\"https://storage.googleapis.com/dsc232r-group-project-data/steam-reviews.zip\")\n",
        "!wget \"{url1}\""
      ]
    },
    {
      "cell_type": "code",
      "execution_count": null,
      "id": "27f2ae2d-bac0-4ae2-b547-14ab39dba3de",
      "metadata": {
        "id": "27f2ae2d-bac0-4ae2-b547-14ab39dba3de"
      },
      "outputs": [],
      "source": [
        "# Extracts steam-reviews.zip into specified directory and deletes .zip file\n",
        "!unzip steam-reviews.zip -d /home/joneel/joneel/Group_Project/raw_data/steam-reviews && rm steam-reviews.zip"
      ]
    },
    {
      "cell_type": "code",
      "execution_count": null,
      "id": "b7f86872-6b6a-4804-a9b0-8a0167fbd5a2",
      "metadata": {
        "id": "b7f86872-6b6a-4804-a9b0-8a0167fbd5a2"
      },
      "outputs": [],
      "source": [
        "# Loads in games.csv (games metadata)\n",
        "url2 = (\"https://storage.googleapis.com/dsc232r-group-project-data/games.csv\")\n",
        "!wget \"{url2}\""
      ]
    },
    {
      "cell_type": "code",
      "execution_count": null,
      "id": "b88c89a1-1d06-4337-9bec-dc1239251f2e",
      "metadata": {
        "id": "b88c89a1-1d06-4337-9bec-dc1239251f2e"
      },
      "outputs": [],
      "source": [
        "# Moves games.csv into specified directory\n",
        "!mv games.csv /home/joneel/joneel/Group_Project/raw_data"
      ]
    },
    {
      "cell_type": "markdown",
      "id": "c8cf6eb9-2275-432f-a249-5bbf345329df",
      "metadata": {
        "id": "c8cf6eb9-2275-432f-a249-5bbf345329df"
      },
      "source": [
        "## Part 0.b. Environment Set-up"
      ]
    },
    {
      "cell_type": "markdown",
      "id": "1bed7c62-dcc8-431b-9972-cf754dc6f002",
      "metadata": {
        "id": "1bed7c62-dcc8-431b-9972-cf754dc6f002"
      },
      "source": [
        "Set-up on the cluster included 32 cores with 176GB memory in order to load and process this dataset."
      ]
    },
    {
      "cell_type": "code",
      "execution_count": 36,
      "id": "547c0e23-fd38-4653-af38-87ee9a03e297",
      "metadata": {
        "id": "547c0e23-fd38-4653-af38-87ee9a03e297"
      },
      "outputs": [],
      "source": [
        "# Import required libraries\n",
        "import os, pickle, glob\n",
        "from pyspark.sql import SparkSession\n",
        "from pyspark.sql import functions as f\n",
        "from pyspark import StorageLevel\n",
        "import matplotlib.pyplot as plt\n",
        "import seaborn as sns\n",
        "import numpy as np\n",
        "from pyspark.ml.feature import RegexTokenizer\n",
        "from pyspark.ml.feature import StopWordsRemover\n",
        "from pyspark.sql.functions import size\n",
        "from pyspark.ml.feature import Word2Vec\n",
        "from pyspark.sql.functions import collect_list, udf, col, size\n",
        "from pyspark.sql.types import ArrayType, FloatType\n",
        "from pyspark.ml.feature import PCA, VectorAssembler\n",
        "from pyspark.ml.clustering import KMeans\n",
        "from pyspark.ml.feature import PCA, VectorAssembler\n",
        "from pyspark.ml.functions import array_to_vector\n",
        "from pyspark.sql.functions import udf\n",
        "from pyspark.sql.types import ArrayType, StringType\n",
        "import ast\n",
        "from pyspark.ml.regression import RandomForestRegressor\n",
        "from pyspark.ml import Pipeline\n",
        "from pyspark.ml.evaluation import RegressionEvaluator"
      ]
    },
    {
      "cell_type": "code",
      "execution_count": 2,
      "id": "71f3d832-d431-4a27-8196-bc321af85cfd",
      "metadata": {
        "id": "71f3d832-d431-4a27-8196-bc321af85cfd"
      },
      "outputs": [],
      "source": [
        "#sc.stop() # To stop a currently running SparkSession, if needed for troubleshooting/development"
      ]
    },
    {
      "cell_type": "code",
      "execution_count": 3,
      "id": "67f28e6b-6aeb-499d-ab0c-59965f288ccd",
      "metadata": {
        "id": "67f28e6b-6aeb-499d-ab0c-59965f288ccd"
      },
      "outputs": [],
      "source": [
        "# Establishes Spark Session (Cluster)\n",
        "sc = SparkSession.builder \\\n",
        "    .config(\"spark.driver.memory\", \"22g\") \\\n",
        "\t  .config(\"spark.executor.memory\", \"22g\") \\\n",
        "    .config(\"spark.executor.instances\", \"8\") \\\n",
        "    .config(\"spark.executor.cores\", \"4\") \\\n",
        "    .config(\"spark.sql.shuffle.partitions\", \"1000\") \\\n",
        "\t.appName(\"MySparkJob\") \\\n",
        "\t.getOrCreate()"
      ]
    },
    {
      "cell_type": "markdown",
      "id": "e1c23aff-e366-4fb3-a883-7dad73d99406",
      "metadata": {
        "id": "e1c23aff-e366-4fb3-a883-7dad73d99406"
      },
      "source": [
        "# Part 1: Load Data into Spark Dataframes & Pre-processing"
      ]
    },
    {
      "cell_type": "markdown",
      "id": "f5d34796-86ff-4462-a445-d852b47d9b75",
      "metadata": {
        "id": "f5d34796-86ff-4462-a445-d852b47d9b75"
      },
      "source": [
        "## 1.a. Reviews Data (from [“100 Million+ Steam Reviews”](https://www.kaggle.com/datasets/kieranpoc/steam-reviews/data) dataset)"
      ]
    },
    {
      "cell_type": "code",
      "execution_count": 5,
      "id": "b39166eb-9951-4a97-a532-4a703c4b0cde",
      "metadata": {
        "id": "b39166eb-9951-4a97-a532-4a703c4b0cde"
      },
      "outputs": [],
      "source": [
        "# Loads all_reviews.csv file into a spark dataframe\n",
        "reviews_df = sc.read.csv(\"/home/joneel/joneel/Group_Project/raw_data/steam-reviews/all_reviews/all_reviews.csv\", header=True, inferSchema=True)"
      ]
    },
    {
      "cell_type": "code",
      "execution_count": 6,
      "id": "7d14bdec-707d-4266-91bb-b05e9066797c",
      "metadata": {
        "id": "7d14bdec-707d-4266-91bb-b05e9066797c"
      },
      "outputs": [],
      "source": [
        "# Displays reviews_df schema and counts total # of reviews\n",
        "#reviews_df.printSchema()\n",
        "#print(f\"Number of reviews: {reviews_df.count()}\")"
      ]
    },
    {
      "cell_type": "code",
      "execution_count": 7,
      "id": "e5f0fbad-bd70-46ff-b9d0-27a004aa8671",
      "metadata": {
        "id": "e5f0fbad-bd70-46ff-b9d0-27a004aa8671"
      },
      "outputs": [],
      "source": [
        "# Removes two columns related to Chinese gaming market (not relevant for this analysis)\n",
        "reviews_df = reviews_df.drop(\"hidden_in_steam_china\", \"steam_china_location\")\n",
        "#reviews_df.printSchema()"
      ]
    },
    {
      "cell_type": "code",
      "execution_count": 8,
      "id": "4fd8c8e2-a957-48b6-8826-e4f75704e48b",
      "metadata": {
        "id": "4fd8c8e2-a957-48b6-8826-e4f75704e48b"
      },
      "outputs": [],
      "source": [
        "# Filters dataframe to include only reviews in English & counts new number of reviews\n",
        "reviews_df_processed = reviews_df.filter(reviews_df.language == 'english')\n",
        "#reviews_df_processed.select(\"language\").distinct().show()\n",
        "#print(f\"Number of reviews: {reviews_df_processed.count()}\")"
      ]
    },
    {
      "cell_type": "code",
      "execution_count": 9,
      "id": "a7ffb95e-5ab4-49c5-8675-dfd652f1a31a",
      "metadata": {
        "id": "a7ffb95e-5ab4-49c5-8675-dfd652f1a31a"
      },
      "outputs": [],
      "source": [
        "# Drops rows that contain null values in the id or reviews column & drop duplicate recommendation ids\n",
        "reviews_df_processed = reviews_df_processed.na.drop(subset=[\"recommendationid\", \"appid\", \"author_steamid\", \"review\"])\n",
        "#print(f\"Number of reviews: {reviews_df_processed.count()}\")\n",
        "reviews_df_processed = reviews_df_processed.dropDuplicates(subset=[\"recommendationid\"])\n",
        "#print(f\"Number of reviews: {reviews_df_processed.count()}\")"
      ]
    },
    {
      "cell_type": "code",
      "execution_count": 10,
      "id": "c1f71791-54f7-46e2-be21-05f88c3fa101",
      "metadata": {
        "id": "c1f71791-54f7-46e2-be21-05f88c3fa101"
      },
      "outputs": [],
      "source": [
        "# Cast columns to appropriate datatypes based on definitions on Kaggle\n",
        "reviews_df_processed = reviews_df_processed.withColumn(\"author_num_games_owned\", f.col(\"author_num_games_owned\").cast(\"integer\"))\n",
        "reviews_df_processed = reviews_df_processed.withColumn(\"author_num_reviews\", f.col(\"author_num_reviews\").cast(\"integer\"))\n",
        "reviews_df_processed = reviews_df_processed.withColumn(\"author_playtime_forever\", f.col(\"author_playtime_forever\").cast(\"integer\"))\n",
        "reviews_df_processed = reviews_df_processed.withColumn(\"author_playtime_last_two_weeks\", f.col(\"author_playtime_last_two_weeks\").cast(\"integer\"))\n",
        "reviews_df_processed = reviews_df_processed.withColumn(\"author_playtime_at_review\", f.col(\"author_playtime_at_review\").cast(\"integer\"))\n",
        "reviews_df_processed = reviews_df_processed.withColumn(\"author_last_played\", f.from_unixtime(f.col(\"author_last_played\")).cast(\"timestamp\"))\n",
        "reviews_df_processed = reviews_df_processed.withColumn(\"timestamp_created\", f.from_unixtime(f.col(\"timestamp_created\")).cast(\"timestamp\"))\n",
        "reviews_df_processed = reviews_df_processed.withColumn(\"timestamp_updated\", f.from_unixtime(f.col(\"timestamp_updated\")).cast(\"timestamp\"))\n",
        "reviews_df_processed = reviews_df_processed.withColumn(\"voted_up\", f.col(\"voted_up\").cast(\"integer\"))\n",
        "reviews_df_processed = reviews_df_processed.withColumn(\"votes_up\", f.col(\"votes_up\").cast(\"integer\"))\n",
        "reviews_df_processed = reviews_df_processed.withColumn(\"votes_funny\", f.col(\"votes_funny\").cast(\"integer\"))\n",
        "reviews_df_processed = reviews_df_processed.withColumn(\"weighted_vote_score\", f.col(\"weighted_vote_score\").cast(\"double\"))\n",
        "reviews_df_processed = reviews_df_processed.withColumn(\"comment_count\", f.col(\"comment_count\").cast(\"integer\"))\n",
        "reviews_df_processed = reviews_df_processed.withColumn(\"steam_purchase\", f.col(\"steam_purchase\").cast(\"integer\"))\n",
        "reviews_df_processed = reviews_df_processed.withColumn(\"received_for_free\", f.col(\"received_for_free\").cast(\"integer\"))\n",
        "reviews_df_processed = reviews_df_processed.withColumn(\"written_during_early_access\", f.col(\"written_during_early_access\").cast(\"integer\"))\n",
        "#reviews_df_processed.printSchema()"
      ]
    },
    {
      "cell_type": "code",
      "execution_count": 11,
      "id": "0ca5cea7-c7fe-4a55-9b21-dd1f95dc633a",
      "metadata": {
        "id": "0ca5cea7-c7fe-4a55-9b21-dd1f95dc633a"
      },
      "outputs": [],
      "source": [
        "# Fixing Boolean columns\n",
        "reviews_df_processed = reviews_df_processed.filter((reviews_df_processed[\"steam_purchase\"] == 0) | (reviews_df_processed[\"steam_purchase\"] == 1))\n",
        "reviews_df_processed = reviews_df_processed.filter((reviews_df_processed[\"received_for_free\"] == 0) | (reviews_df_processed[\"received_for_free\"] == 1))\n",
        "reviews_df_processed = reviews_df_processed.filter((reviews_df_processed[\"written_during_early_access\"] == 0) |\n",
        "                                                   (reviews_df_processed[\"written_during_early_access\"] == 1))\n",
        "reviews_df_processed = reviews_df_processed.filter((reviews_df_processed[\"voted_up\"] == 0) | (reviews_df_processed[\"voted_up\"] == 1))\n",
        "reviews_df_processed = reviews_df_processed.withColumnRenamed(\"voted_up\",\"positive_review\")\n",
        "\n",
        "# Cast to boolean\n",
        "reviews_df_processed = reviews_df_processed.withColumn(\"steam_purchase\", f.col(\"steam_purchase\").cast(\"boolean\"))\n",
        "reviews_df_processed = reviews_df_processed.withColumn(\"received_for_free\", f.col(\"received_for_free\").cast(\"boolean\"))\n",
        "reviews_df_processed = reviews_df_processed.withColumn(\"written_during_early_access\", f.col(\"written_during_early_access\").cast(\"boolean\"))\n",
        "reviews_df_processed = reviews_df_processed.withColumn(\"positive_review\", f.col(\"positive_review\").cast(\"boolean\"))\n",
        "\n",
        "#print(f\"Number of reviews: {reviews_df_processed.count()}\")"
      ]
    },
    {
      "cell_type": "code",
      "execution_count": 12,
      "id": "d5694cd3-0462-4402-a31c-481399d49e19",
      "metadata": {
        "id": "d5694cd3-0462-4402-a31c-481399d49e19"
      },
      "outputs": [],
      "source": [
        "# Filter review dates from before September 12, 2003 (when Steam was launched)\n",
        "reviews_df_processed = reviews_df_processed.filter(reviews_df_processed.timestamp_created >= '2003-09-12')\n",
        "reviews_df_processed = reviews_df_processed.filter(reviews_df_processed.timestamp_updated >= '2003-09-12')"
      ]
    },
    {
      "cell_type": "code",
      "execution_count": 13,
      "id": "91f967b5-badc-4f96-beb4-31312b454328",
      "metadata": {
        "id": "91f967b5-badc-4f96-beb4-31312b454328"
      },
      "outputs": [],
      "source": [
        "# Double check schema and print new review count\n",
        "#reviews_df_processed.printSchema()\n",
        "#print(f\"Number of reviews: {reviews_df_processed.count()}\")"
      ]
    },
    {
      "cell_type": "code",
      "execution_count": 14,
      "id": "589d54b4-eb4e-4ac4-ac8b-768161b4ea40",
      "metadata": {
        "id": "589d54b4-eb4e-4ac4-ac8b-768161b4ea40"
      },
      "outputs": [],
      "source": [
        "# Splits data into two dataframes, 1 with all the review metadata and 1 with only the recommendationid + appid + review\n",
        "reviews_df_processed_metadata = reviews_df_processed.drop(\"review\")\n",
        "reviews_df_processed_reviews = reviews_df_processed.select(\"recommendationid\", \"appid\", \"author_steamid\", \"review\")"
      ]
    },
    {
      "cell_type": "markdown",
      "id": "8d288b82-bfc6-4090-95a8-a34ec9ba87d7",
      "metadata": {
        "id": "8d288b82-bfc6-4090-95a8-a34ec9ba87d7"
      },
      "source": [
        "## 1.b. Games Data (from [\"Steam Games\"](https://www.kaggle.com/datasets/artermiloff/steam-games-dataset) dataset)"
      ]
    },
    {
      "cell_type": "code",
      "execution_count": 15,
      "id": "2050565b-e9ba-4cc6-9390-2198743ea07e",
      "metadata": {
        "id": "2050565b-e9ba-4cc6-9390-2198743ea07e"
      },
      "outputs": [],
      "source": [
        "# Loads games.csv file into a spark dataframe\n",
        "games_df = sc.read.csv(\"/home/joneel/joneel/Group_Project/raw_data/games.csv\", header=True, inferSchema=True)"
      ]
    },
    {
      "cell_type": "code",
      "execution_count": 16,
      "id": "f8167541-4de9-4e50-bf4f-d67b1c204cb5",
      "metadata": {
        "id": "f8167541-4de9-4e50-bf4f-d67b1c204cb5"
      },
      "outputs": [],
      "source": [
        "# Displays games_df schema and counts total # of games\n",
        "#games_df.printSchema()\n",
        "#print(f\"Number of games: {games_df.count()}\")"
      ]
    },
    {
      "cell_type": "code",
      "execution_count": 17,
      "id": "2e550a5a-cbfa-434d-9fba-ea53968d01c5",
      "metadata": {
        "id": "2e550a5a-cbfa-434d-9fba-ea53968d01c5"
      },
      "outputs": [],
      "source": [
        "# Removes columns not relevant for this analysis\n",
        "games_df_processed = games_df.drop(\"reviews\", \"header_image\", \"website\", \"support_url\", \"support_email\", \"full_audio_languages\", \"screenshots\", \"movies\",\n",
        "                                  \"required_age\", \"metacritic_url\", \"supported_languages\", \"packages\", \"score_rank\", \"discount\")\n",
        "#games_df_processed.printSchema()"
      ]
    },
    {
      "cell_type": "code",
      "execution_count": 18,
      "id": "2a887192-ba4e-4001-8e0c-c196eb3d8f02",
      "metadata": {
        "id": "2a887192-ba4e-4001-8e0c-c196eb3d8f02"
      },
      "outputs": [],
      "source": [
        "# Drops rows that contain null values or duplicates in the appid column\n",
        "#print(f\"Number of games: {games_df_processed.count()}\")\n",
        "games_df_processed = games_df_processed.na.drop(subset=[\"appid\"])\n",
        "#print(f\"Number of games: {games_df_processed.count()}\")\n",
        "games_df_processed = games_df_processed.dropDuplicates(subset=[\"appid\"])\n",
        "#print(f\"Number of games: {games_df_processed.count()}\")"
      ]
    },
    {
      "cell_type": "code",
      "execution_count": 19,
      "id": "1383ad81-52e0-4219-a938-eabb3fe9aa81",
      "metadata": {
        "id": "1383ad81-52e0-4219-a938-eabb3fe9aa81"
      },
      "outputs": [],
      "source": [
        "# Cast columns to appropriate data types based ond descriptions on Kaggle\n",
        "games_df_processed = games_df_processed.withColumn(\"release_date\", f.to_timestamp(\"release_date\", \"yyyy-MM-dd\"))\n",
        "games_df_processed = games_df_processed.withColumn(\"price\", f.col(\"price\").cast(\"double\"))\n",
        "games_df_processed = games_df_processed.withColumn(\"dlc_count\", f.col(\"dlc_count\").cast(\"integer\"))\n",
        "games_df_processed = games_df_processed.withColumn(\"windows\", f.col(\"windows\").cast(\"boolean\"))\n",
        "games_df_processed = games_df_processed.withColumn(\"mac\", f.col(\"mac\").cast(\"boolean\"))\n",
        "games_df_processed = games_df_processed.withColumn(\"linux\", f.col(\"linux\").cast(\"boolean\"))\n",
        "games_df_processed = games_df_processed.withColumn(\"metacritic_score\", f.col(\"metacritic_score\").cast(\"double\"))\n",
        "games_df_processed = games_df_processed.withColumn(\"achievements\", f.col(\"achievements\").cast(\"integer\"))\n",
        "games_df_processed = games_df_processed.withColumn(\"recommendations\", f.col(\"recommendations\").cast(\"integer\"))\n",
        "games_df_processed = games_df_processed.withColumn(\"user_score\", f.col(\"user_score\").cast(\"integer\"))\n",
        "games_df_processed = games_df_processed.withColumn(\"positive\", f.col(\"positive\").cast(\"integer\"))\n",
        "games_df_processed = games_df_processed.withColumn(\"negative\", f.col(\"negative\").cast(\"integer\"))\n",
        "games_df_processed = games_df_processed.withColumn(\"average_playtime_forever\", f.col(\"average_playtime_forever\").cast(\"integer\"))\n",
        "games_df_processed = games_df_processed.withColumn(\"average_playtime_2weeks\", f.col(\"average_playtime_2weeks\").cast(\"integer\"))\n",
        "games_df_processed = games_df_processed.withColumn(\"median_playtime_forever\", f.col(\"median_playtime_forever\").cast(\"integer\"))\n",
        "games_df_processed = games_df_processed.withColumn(\"median_playtime_2weeks\", f.col(\"median_playtime_2weeks\").cast(\"integer\"))\n",
        "games_df_processed = games_df_processed.withColumn(\"pct_pos_total\", f.col(\"pct_pos_total\").cast(\"integer\"))\n",
        "games_df_processed = games_df_processed.withColumn(\"peak_ccu\", f.col(\"peak_ccu\").cast(\"integer\"))\n",
        "games_df_processed = games_df_processed.withColumn(\"num_reviews_total\", f.col(\"num_reviews_total\").cast(\"integer\"))\n",
        "games_df_processed = games_df_processed.withColumn(\"pct_pos_recent\", f.col(\"pct_pos_recent\").cast(\"integer\"))\n",
        "games_df_processed = games_df_processed.withColumn(\"num_reviews_recent\", f.col(\"num_reviews_recent\").cast(\"integer\"))\n",
        "#games_df_processed.printSchema()"
      ]
    },
    {
      "cell_type": "markdown",
      "id": "7da11a4e-8b73-4419-bb4d-b7818cf47e99",
      "metadata": {
        "id": "7da11a4e-8b73-4419-bb4d-b7818cf47e99"
      },
      "source": [
        "## 1.c. Checking Compatibility of Datasets"
      ]
    },
    {
      "cell_type": "code",
      "execution_count": 20,
      "id": "822ef72e-85e9-4d9c-9906-e3802cc9a853",
      "metadata": {
        "id": "822ef72e-85e9-4d9c-9906-e3802cc9a853"
      },
      "outputs": [],
      "source": [
        "# Verify that appid's match between the two datasets\n",
        "#joined = reviews_df_processed_metadata.select(\"appid\", \"game\").alias(\"df1\").join(\n",
        "    #games_df_processed.select(\"appid\", \"name\").alias(\"df2\"), on=\"appid\", how=\"inner\").filter(\n",
        "    #\"df1.game != df2.name\")\n",
        "#joined.show()"
      ]
    },
    {
      "cell_type": "code",
      "execution_count": 21,
      "id": "6253808e-6aaa-42a3-ae9e-1510ee209302",
      "metadata": {
        "id": "6253808e-6aaa-42a3-ae9e-1510ee209302"
      },
      "outputs": [],
      "source": [
        "# Dropping the game name from the first dataset (100+ Million Reviews), will use the game name from the second dataset (Steam Games)\n",
        "reviews_df_processed_metadata = reviews_df_processed_metadata.drop(\"game\")"
      ]
    },
    {
      "cell_type": "markdown",
      "id": "95bb283a-0f9d-4765-905b-cc7ee7e3fbe9",
      "metadata": {
        "id": "95bb283a-0f9d-4765-905b-cc7ee7e3fbe9"
      },
      "source": [
        "## 1.d. Final Pre-processed Data Frames"
      ]
    },
    {
      "cell_type": "code",
      "execution_count": 22,
      "id": "a638653a-5f9a-4021-a347-1051c0ce04c5",
      "metadata": {
        "id": "a638653a-5f9a-4021-a347-1051c0ce04c5",
        "outputId": "a0526a13-7794-42e8-d629-e323075ed811",
        "colab": {
          "base_uri": "https://localhost:8080/"
        }
      },
      "outputs": [
        {
          "output_type": "stream",
          "name": "stdout",
          "text": [
            "Final Processed Dataframes: \n",
            "Reviews Metadata (reviews_df_processed_metadata): \n",
            "root\n",
            " |-- recommendationid: string (nullable = true)\n",
            " |-- appid: integer (nullable = true)\n",
            " |-- author_steamid: string (nullable = true)\n",
            " |-- author_num_games_owned: integer (nullable = true)\n",
            " |-- author_num_reviews: integer (nullable = true)\n",
            " |-- author_playtime_forever: integer (nullable = true)\n",
            " |-- author_playtime_last_two_weeks: integer (nullable = true)\n",
            " |-- author_playtime_at_review: integer (nullable = true)\n",
            " |-- author_last_played: timestamp (nullable = true)\n",
            " |-- language: string (nullable = true)\n",
            " |-- timestamp_created: timestamp (nullable = true)\n",
            " |-- timestamp_updated: timestamp (nullable = true)\n",
            " |-- positive_review: boolean (nullable = true)\n",
            " |-- votes_up: integer (nullable = true)\n",
            " |-- votes_funny: integer (nullable = true)\n",
            " |-- weighted_vote_score: double (nullable = true)\n",
            " |-- comment_count: integer (nullable = true)\n",
            " |-- steam_purchase: boolean (nullable = true)\n",
            " |-- received_for_free: boolean (nullable = true)\n",
            " |-- written_during_early_access: boolean (nullable = true)\n",
            "\n",
            "Reviews (reviews_df_processed_reviews): \n",
            "root\n",
            " |-- recommendationid: string (nullable = true)\n",
            " |-- appid: integer (nullable = true)\n",
            " |-- author_steamid: string (nullable = true)\n",
            " |-- review: string (nullable = true)\n",
            "\n",
            "Games (games_df_processed): \n",
            "root\n",
            " |-- appid: integer (nullable = true)\n",
            " |-- name: string (nullable = true)\n",
            " |-- release_date: timestamp (nullable = true)\n",
            " |-- price: double (nullable = true)\n",
            " |-- dlc_count: integer (nullable = true)\n",
            " |-- detailed_description: string (nullable = true)\n",
            " |-- about_the_game: string (nullable = true)\n",
            " |-- short_description: string (nullable = true)\n",
            " |-- windows: boolean (nullable = true)\n",
            " |-- mac: boolean (nullable = true)\n",
            " |-- linux: boolean (nullable = true)\n",
            " |-- metacritic_score: double (nullable = true)\n",
            " |-- achievements: integer (nullable = true)\n",
            " |-- recommendations: integer (nullable = true)\n",
            " |-- notes: string (nullable = true)\n",
            " |-- developers: string (nullable = true)\n",
            " |-- publishers: string (nullable = true)\n",
            " |-- categories: string (nullable = true)\n",
            " |-- genres: string (nullable = true)\n",
            " |-- user_score: integer (nullable = true)\n",
            " |-- positive: integer (nullable = true)\n",
            " |-- negative: integer (nullable = true)\n",
            " |-- estimated_owners: string (nullable = true)\n",
            " |-- average_playtime_forever: integer (nullable = true)\n",
            " |-- average_playtime_2weeks: integer (nullable = true)\n",
            " |-- median_playtime_forever: integer (nullable = true)\n",
            " |-- median_playtime_2weeks: integer (nullable = true)\n",
            " |-- peak_ccu: integer (nullable = true)\n",
            " |-- tags: string (nullable = true)\n",
            " |-- pct_pos_total: integer (nullable = true)\n",
            " |-- num_reviews_total: integer (nullable = true)\n",
            " |-- pct_pos_recent: integer (nullable = true)\n",
            " |-- num_reviews_recent: integer (nullable = true)\n",
            "\n"
          ]
        }
      ],
      "source": [
        "print(\"Final Processed Dataframes: \")\n",
        "print(\"Reviews Metadata (reviews_df_processed_metadata): \")\n",
        "reviews_df_processed_metadata.printSchema()\n",
        "print(\"Reviews (reviews_df_processed_reviews): \")\n",
        "reviews_df_processed_reviews.printSchema()\n",
        "print(\"Games (games_df_processed): \")\n",
        "games_df_processed.printSchema()"
      ]
    },
    {
      "cell_type": "code",
      "execution_count": null,
      "id": "00ba4ffb-d393-4a39-a348-5b351c5cd747",
      "metadata": {
        "id": "00ba4ffb-d393-4a39-a348-5b351c5cd747"
      },
      "outputs": [],
      "source": [
        "# Save processed dataframes as parquet files\n",
        "#reviews_df_processed_metadata.write.mode(\"overwrite\").parquet(\"joneel/Group_Project/processed_data/reviews_processed_metadata\")\n",
        "#reviews_df_processed_reviews.write.mode(\"overwrite\").parquet(\"joneel/Group_Project/processed_data/reviews_processed\")\n",
        "#games_df_processed.write.mode(\"overwrite\").parquet(\"joneel/Group_Project/processed_data/games_processed\")"
      ]
    },
    {
      "cell_type": "code",
      "execution_count": null,
      "id": "8416cb6d-2985-43cb-adbf-cc35e6619309",
      "metadata": {
        "id": "8416cb6d-2985-43cb-adbf-cc35e6619309"
      },
      "outputs": [],
      "source": [
        "# Cache most used dataframe\n",
        "#reviews_df_processed_metadata.persist(StorageLevel.MEMORY_AND_DISK)\n",
        "#reviews_df_processed_metadata.count()"
      ]
    },
    {
      "cell_type": "markdown",
      "id": "6d2fbae6-ed93-4d98-9c90-62bbc5e48e52",
      "metadata": {
        "id": "6d2fbae6-ed93-4d98-9c90-62bbc5e48e52"
      },
      "source": [
        "# Part 2: Exploratory Plots & Summary Statistics"
      ]
    },
    {
      "cell_type": "markdown",
      "id": "86a29abe-29b9-4226-b100-542612d3cfd6",
      "metadata": {
        "jp-MarkdownHeadingCollapsed": true,
        "id": "86a29abe-29b9-4226-b100-542612d3cfd6"
      },
      "source": [
        "## 2.a. Summary Statistics"
      ]
    },
    {
      "cell_type": "code",
      "execution_count": null,
      "id": "338ad9c0-b9ee-436f-92dc-2afcfec1eac6",
      "metadata": {
        "id": "338ad9c0-b9ee-436f-92dc-2afcfec1eac6"
      },
      "outputs": [],
      "source": [
        "# Total # Reviews, Total # Games Reviewed, and Total # Unique Reviewers\n",
        "print(f\"Number of Reviews: {reviews_df_processed_metadata.count()}\")\n",
        "num_games_reviewed = reviews_df_processed_metadata.select(\"appid\").distinct().count()\n",
        "print(f\"Number of Games Reviewed: {num_games_reviewed}\")\n",
        "num_unique_reviewers = reviews_df_processed_metadata.select(\"author_steamid\").distinct().count()\n",
        "print(f\"Number of Unique Reviewers: {num_unique_reviewers}\")\n",
        "# Date range of Reviews\n",
        "print(\"Date Range of Reviews: \")\n",
        "reviews_df_processed_metadata.select(f.min(\"timestamp_created\").alias(\"earliest_review\"),\n",
        "                                     f.max(\"timestamp_created\").alias(\"latest_review\")).show()"
      ]
    },
    {
      "cell_type": "markdown",
      "id": "3e2b2920-aae7-48e3-a00e-e6ef569a2de8",
      "metadata": {
        "jp-MarkdownHeadingCollapsed": true,
        "id": "3e2b2920-aae7-48e3-a00e-e6ef569a2de8"
      },
      "source": [
        "## 2.b. Exploratory Plots"
      ]
    },
    {
      "cell_type": "code",
      "execution_count": null,
      "id": "c16890d4-7fd0-4b44-b142-b6b39fcd46ee",
      "metadata": {
        "id": "c16890d4-7fd0-4b44-b142-b6b39fcd46ee"
      },
      "outputs": [],
      "source": [
        "# Review Volume Over Time\n",
        "# Reduce data to pandas dataframe\n",
        "reviews_by_month = reviews_df_processed_metadata.withColumn(\"year_month\", f.date_format(\"timestamp_created\", \"yyyy-MM\"))\n",
        "review_counts_by_month = reviews_by_month.groupBy(\"year_month\").count().orderBy(\"year_month\")\n",
        "review_counts_pd = review_counts_by_month.toPandas()\n",
        "# Line plot - Review Volume Over Time\n",
        "plt.figure(figsize=(12,6))\n",
        "plt.plot(review_counts_pd[\"year_month\"], review_counts_pd[\"count\"], marker=\"o\")\n",
        "plt.xticks(ticks=review_counts_pd.index[::6], labels=review_counts_pd[\"year_month\"][::6], rotation=45, ha=\"right\")\n",
        "plt.xlabel(\"Month\")\n",
        "plt.ylabel(\"Number of Reviews\")\n",
        "plt.title(\"Monthly Review Volume Over Time\")\n",
        "plt.tight_layout()\n",
        "plt.show()"
      ]
    },
    {
      "cell_type": "code",
      "execution_count": null,
      "id": "cda1a5d3-5149-4030-ae0d-5a61e2dd3c3c",
      "metadata": {
        "id": "cda1a5d3-5149-4030-ae0d-5a61e2dd3c3c"
      },
      "outputs": [],
      "source": [
        "# Plot Most-Reviewed Games (Top 10) - Bar Chart\n",
        "# Reduce data to pandas dataframe\n",
        "review_counts = reviews_df_processed_metadata.groupBy(\"appid\").count()\n",
        "review_counts_named = review_counts.join(games_df_processed.select(\"appid\", \"name\"), on=\"appid\", how=\"left\")\n",
        "top_10_games = review_counts_named.orderBy(f.col(\"count\").desc()).limit(10)\n",
        "top_10_games_pd = top_10_games.toPandas()\n",
        "# Plot bar chart\n",
        "plt.figure(figsize=(10,6))\n",
        "sns.barplot(data=top_10_games_pd, x=\"name\", y=\"count\")\n",
        "plt.xticks(rotation=45, ha=\"right\")\n",
        "plt.title(\"Top 10 Most Reviewed Games\")\n",
        "plt.xlabel(\"Game\")\n",
        "plt.ylabel(\"Number of Reviews\")\n",
        "plt.tight_layout()\n",
        "plt.show()"
      ]
    },
    {
      "cell_type": "code",
      "execution_count": null,
      "id": "93aee779-760d-4fa6-85b5-2dba18f36978",
      "metadata": {
        "id": "93aee779-760d-4fa6-85b5-2dba18f36978"
      },
      "outputs": [],
      "source": [
        "# Plot Most Prolific Reviewers (Top 10) - Bar Chart\n",
        "# Reduce data to pandas dataframe\n",
        "reviewer_counts = reviews_df_processed_metadata.groupBy(\"author_steamid\").count()\n",
        "top_10_reviewers = reviewer_counts.orderBy(f.col(\"count\").desc()).limit(10)\n",
        "top_10_reviewers_pd = top_10_reviewers.toPandas()\n",
        "# Plot bar chart\n",
        "plt.figure(figsize=(10,6))\n",
        "sns.barplot(data=top_10_reviewers_pd, x=\"author_steamid\", y=\"count\")\n",
        "plt.xticks(rotation=45, ha=\"right\")\n",
        "plt.title(\"Top 10 Most Prolific Reviewers\")\n",
        "plt.xlabel(\"Author's Steam ID\")\n",
        "plt.ylabel(\"Number of Reviews\")\n",
        "plt.tight_layout()\n",
        "plt.show()"
      ]
    },
    {
      "cell_type": "code",
      "execution_count": null,
      "id": "b383c5b7-01d0-47cd-9434-3451a9510352",
      "metadata": {
        "id": "b383c5b7-01d0-47cd-9434-3451a9510352"
      },
      "outputs": [],
      "source": [
        "# Top 10 Best & Worst Reviewed Games\n",
        "# Reduce data to pandas dataframe\n",
        "review_stats = reviews_df_processed_metadata.withColumn(\"positive_review\", f.col(\"positive_review\").cast(\"integer\")) \\\n",
        "                    .groupBy(\"appid\") \\\n",
        "                    .agg(\n",
        "                        f.avg(\"positive_review\").alias(\"positive_ratio\"),\n",
        "                        f.count(\"*\").alias(\"total_reviews\")\n",
        "                    )\n",
        "review_stats_filtered = review_stats.filter(\"total_reviews >= 10000\")\n",
        "review_stats_named = review_stats_filtered.join(games_df_processed.select(\"appid\", \"name\"), on=\"appid\", how=\"left\")\n",
        "review_stats_named = review_stats_named.filter((review_stats_named.name != \"None\") & (review_stats_named.name.isNotNull()))\n",
        "top_10_best_games = review_stats_named.orderBy(\"positive_ratio\", ascending=False).limit(10)\n",
        "top_10_best_games_pd = top_10_best_games.toPandas()\n",
        "top_10_worst_games = review_stats_named.orderBy(\"positive_ratio\", ascending=True).limit(10)\n",
        "top_10_worst_games_pd = top_10_worst_games.toPandas()\n",
        "\n",
        "# Plot bar chart - Top 10 Best Games\n",
        "plt.figure(figsize=(10,6))\n",
        "sns.barplot(data=top_10_best_games_pd, x=\"name\", y=\"positive_ratio\")\n",
        "plt.xticks(rotation=45, ha=\"right\")\n",
        "plt.title(\"Top 10 Best Reviewed Games\")\n",
        "plt.xlabel(\"Game\")\n",
        "plt.ylabel(\"Proportion of Positive Reviews\")\n",
        "plt.ylim(0.975, 1.0)\n",
        "plt.tight_layout()\n",
        "plt.show()\n",
        "\n",
        "# Plot bar chart - Top 10 Worst Games\n",
        "plt.figure(figsize=(10,6))\n",
        "sns.barplot(data=top_10_worst_games_pd, x=\"name\", y=\"positive_ratio\")\n",
        "plt.xticks(rotation=45, ha=\"right\")\n",
        "plt.title(\"Top 10 Worst Reviewed Games\")\n",
        "plt.xlabel(\"Game\")\n",
        "plt.ylabel(\"Proportion of Positive Reviews\")\n",
        "plt.tight_layout()\n",
        "plt.show()"
      ]
    },
    {
      "cell_type": "code",
      "execution_count": null,
      "id": "3a3a5c9d-3f02-4829-bed3-df3bc75c2f70",
      "metadata": {
        "id": "3a3a5c9d-3f02-4829-bed3-df3bc75c2f70"
      },
      "outputs": [],
      "source": [
        "# Positivity Rate vs. Playtime at Time of Review\n",
        "# Reduce data to pandas dataframe\n",
        "reviews_binned = reviews_df_processed_metadata.withColumn(\"playtime_bin\", f.floor(f.col(\"author_playtime_at_review\") / 100) * 100)\n",
        "reviews_binned = reviews_binned.withColumn(\"is_positive_int\", f.col(\"positive_review\").cast(\"integer\"))\n",
        "playtime_vs_positive = reviews_binned.groupBy(\"playtime_bin\") \\\n",
        "        .agg(\n",
        "            f.avg(\"is_positive_int\").alias(\"positive_ratio\"),\n",
        "            f.count(\"*\").alias(\"review_count\")\n",
        "        ) \\\n",
        "        .orderBy(\"playtime_bin\")\n",
        "playtime_vs_positive = playtime_vs_positive.limit(200)\n",
        "playtime_vs_positive_pd = playtime_vs_positive.toPandas()\n",
        "# Plot scatter plot - Positivity Rate vs. Playtime at Time of Review\n",
        "plt.figure(figsize=(10,6))\n",
        "plt.plot(playtime_vs_positive_pd[\"playtime_bin\"], playtime_vs_positive_pd[\"positive_ratio\"], marker=\"o\")\n",
        "plt.xlabel(\"Playtime at Review (minutes, binned)\")\n",
        "plt.ylabel(\"Proportion of Positive Reviews\")\n",
        "plt.title(\"Positivity Rate vs. Playtime at Time of Review\")\n",
        "plt.grid(True)\n",
        "plt.tight_layout()\n",
        "plt.show()"
      ]
    },
    {
      "cell_type": "code",
      "execution_count": null,
      "id": "994fcbc4-fcc7-4063-8338-94d0da3b1812",
      "metadata": {
        "id": "994fcbc4-fcc7-4063-8338-94d0da3b1812"
      },
      "outputs": [],
      "source": [
        "# To-do:\n",
        "# Tokenize reviews, break down tags and genres\n",
        "# Word cloud of reviews (positive vs. negative)"
      ]
    },
    {
      "cell_type": "markdown",
      "id": "3707ec02-c6ab-4938-a8a2-6ae01fb43f4b",
      "metadata": {
        "id": "3707ec02-c6ab-4938-a8a2-6ae01fb43f4b"
      },
      "source": [
        "# Part 3: Processing Review Text"
      ]
    },
    {
      "cell_type": "code",
      "execution_count": null,
      "id": "e74b5507-856f-4831-869b-00aeaf3542db",
      "metadata": {
        "id": "e74b5507-856f-4831-869b-00aeaf3542db"
      },
      "outputs": [],
      "source": [
        "# Filtering Data to include only the Top 100 Most-Reviewed Games\n",
        "review_counts = reviews_df_processed_metadata.groupBy(\"appid\").count()\n",
        "top_100_games = review_counts.orderBy(f.col(\"count\").desc()).limit(100)\n",
        "top_100_appids = [row.appid for row in top_100_games.collect()]\n",
        "filtered_review_df = reviews_df_processed_reviews.filter(reviews_df_processed_reviews.appid.isin(top_100_appids))\n",
        "print(filtered_review_df.count())"
      ]
    },
    {
      "cell_type": "code",
      "execution_count": null,
      "id": "9499ec8d-b16d-428c-b935-090f71a4b253",
      "metadata": {
        "id": "9499ec8d-b16d-428c-b935-090f71a4b253"
      },
      "outputs": [],
      "source": [
        "# Tokenize Reviews\n",
        "tokenizer = RegexTokenizer(inputCol='review', outputCol='tokens', pattern='\\\\W')\n",
        "reviews_tokenized_df = tokenizer.transform(filtered_review_df)\n",
        "# Remove common english \"stop words\"\n",
        "stopword_remover = StopWordsRemover(inputCol=\"tokens\", outputCol=\"filtered_tokens\")\n",
        "reviews_tokenized_df = stopword_remover.transform(reviews_tokenized_df)\n",
        "# Drop reviews that are less than 10 tokens long\n",
        "reviews_tokenized_df = reviews_tokenized_df.filter(size(reviews_tokenized_df.tokens) >= 10)\n",
        "print(filtered_review_df.count())"
      ]
    },
    {
      "cell_type": "code",
      "execution_count": 25,
      "id": "95303207-7da0-4a13-b077-1c4fbeb3304e",
      "metadata": {
        "id": "95303207-7da0-4a13-b077-1c4fbeb3304e"
      },
      "outputs": [],
      "source": [
        "# Use Word2Vec to vectorize the reviews into vectors of size 50\n",
        "word2vec = Word2Vec(vectorSize=50, minCount=1, inputCol='filtered_tokens', outputCol='review_embeddings')\n",
        "word2vec_model = word2vec.fit(reviews_tokenized_df)\n",
        "reviews_embeddings_df = word2vec_model.transform(reviews_tokenized_df)"
      ]
    },
    {
      "cell_type": "code",
      "execution_count": 26,
      "id": "01207b4c-9e97-4344-b6e8-aeb9f2bbd3ca",
      "metadata": {
        "id": "01207b4c-9e97-4344-b6e8-aeb9f2bbd3ca"
      },
      "outputs": [],
      "source": [
        "# Save vectorized reviews as a parquet file\n",
        "#reviews_embeddings_df.write.parquet(\"/home/joneel/joneel/Group_Project/word2vec_data\", mode=\"overwrite\") # Cluster\n",
        "reviews_embeddings_df.write.parquet(\"word2vec_data\", mode=\"overwrite\") # Local"
      ]
    },
    {
      "cell_type": "code",
      "execution_count": 27,
      "id": "7696c38e-b745-4831-b1e3-dea540bb9fef",
      "metadata": {
        "id": "7696c38e-b745-4831-b1e3-dea540bb9fef"
      },
      "outputs": [],
      "source": [
        "# Load vectorized reviews from parquet file\n",
        "#reviews_embeddings_df = sc.read.parquet(\"/home/joneel/joneel/Group_Project/word2vec_data\") # Cluster\n",
        "reviews_embeddings_df = sc.read.parquet(\"word2vec_data\") # Local"
      ]
    },
    {
      "cell_type": "code",
      "execution_count": 28,
      "id": "05fab682-d4aa-434d-870b-c1daef6d327c",
      "metadata": {
        "id": "05fab682-d4aa-434d-870b-c1daef6d327c"
      },
      "outputs": [],
      "source": [
        "# Functions to average vectors together\n",
        "def avg_vectors(vectors):\n",
        "    if vectors:\n",
        "        return np.mean(vectors, axis=0).tolist()\n",
        "    else:\n",
        "        return []\n",
        "\n",
        "avg_udf = udf(avg_vectors, ArrayType(FloatType()))\n",
        "\n",
        "# Group by game (appid) and calculate average vectorized review\n",
        "game_embeddings_df = (\n",
        "    reviews_embeddings_df\n",
        "    .groupBy(\"appid\")\n",
        "    .agg(collect_list(\"review_embeddings\").alias(\"all_review_embeddings\"))\n",
        "    .withColumn(\"game_embedding\", avg_udf(\"all_review_embeddings\"))\n",
        "    .select(\"appid\", \"game_embedding\")\n",
        ")\n",
        "\n",
        "# Group by review author (author_steamid) and calculate average vectorized review\n",
        "author_embeddings_df = (\n",
        "    reviews_embeddings_df\n",
        "    .groupBy(\"author_steamid\")\n",
        "    .agg(collect_list(\"review_embeddings\").alias(\"all_review_embeddings\"))\n",
        "    .withColumn(\"author_embedding\", avg_udf(\"all_review_embeddings\"))\n",
        "    .select(\"author_steamid\", \"author_embedding\")\n",
        ")"
      ]
    },
    {
      "cell_type": "code",
      "execution_count": 29,
      "id": "88190be6-ee9c-40c8-8354-a452c032b632",
      "metadata": {
        "id": "88190be6-ee9c-40c8-8354-a452c032b632"
      },
      "outputs": [],
      "source": [
        "# Make sure game embeddings are in a vectorized feature column\n",
        "game_embeddings_df = game_embeddings_df.withColumn(\"game_embedding_vec\", array_to_vector(col(\"game_embedding\")))\n",
        "assembler_game = VectorAssembler(inputCols=[\"game_embedding_vec\"], outputCol=\"vectorized_reviews_by_game\")\n",
        "game_features_df = assembler_game.transform(game_embeddings_df)\n",
        "\n",
        "# Dimensionality Reduction via PCA\n",
        "#pca = PCA(k=10, inputCol=\"features\", outputCol=\"pca_features\")\n",
        "#pca_model = pca.fit(game_features_df)\n",
        "#game_pca_df = pca_model.transform(game_features_df)\n"
      ]
    },
    {
      "cell_type": "code",
      "execution_count": 30,
      "id": "06727dd1-2962-4d88-bb2c-a495aa039cf1",
      "metadata": {
        "id": "06727dd1-2962-4d88-bb2c-a495aa039cf1"
      },
      "outputs": [],
      "source": [
        "# Make sure author embeddings are in a vectorized feature column\n",
        "author_embeddings_df = author_embeddings_df.withColumn(\"author_embedding_vec\", array_to_vector(col(\"author_embedding\")))\n",
        "assembler_author = VectorAssembler(inputCols=[\"author_embedding_vec\"], outputCol=\"vectorized_reviews_by_author\")\n",
        "author_features_df = assembler_author.transform(author_embeddings_df)\n",
        "\n",
        "# Dimensionality Reduction via PCA\n",
        "#pca_author = PCA(k=10, inputCol=\"features\", outputCol=\"pca_features\")\n",
        "#pca_author_model = pca_author.fit(author_features_df)\n",
        "#author_pca_df = pca_author_model.transform(author_features_df)"
      ]
    },
    {
      "cell_type": "code",
      "execution_count": null,
      "id": "5ec52452-0cb1-4e86-87bb-a630543eb3e1",
      "metadata": {
        "id": "5ec52452-0cb1-4e86-87bb-a630543eb3e1"
      },
      "outputs": [],
      "source": [
        "# Save reduced dataframes\n",
        "#game_pca_df.write.parquet(\"/home/joneel/joneel/Group_Project/game_pca_data\", mode=\"overwrite\")\n",
        "#author_pca_df.write.parquet(\"/home/joneel/joneel/Group_Project/author_pca_data\", mode=\"overwrite\")"
      ]
    },
    {
      "cell_type": "code",
      "execution_count": null,
      "id": "a2afc66b-8424-40bb-83da-b79adbcb9e0a",
      "metadata": {
        "id": "a2afc66b-8424-40bb-83da-b79adbcb9e0a"
      },
      "outputs": [],
      "source": [
        "# Read in reduced dataframes\n",
        "#game_pca_df = sc.read.parquet(\"/home/joneel/joneel/Group_Project/game_pca_data\")\n",
        "#author_pca_df = sc.read.parquet(\"/home/joneel/joneel/Group_Project/author_pca_data\")"
      ]
    },
    {
      "cell_type": "markdown",
      "metadata": {
        "id": "d135e7d2-1d96-4552-9861-9bb1776314a2"
      },
      "source": [
        "# Part 4: Model #1 - Predicting a Game's Popularity"
      ],
      "id": "d135e7d2-1d96-4552-9861-9bb1776314a2"
    },
    {
      "cell_type": "markdown",
      "source": [
        "The goal of this model is to predict a game's popularity with Steam users by analyzing other provided metadata about the game. For this model, popularity is the positive_ratio of the game amongst Steam users leaving reviews, where 0 is all negative reviews and 1 is all positive reviews."
      ],
      "metadata": {
        "id": "WtudmlvjHbJ4"
      },
      "id": "WtudmlvjHbJ4"
    },
    {
      "cell_type": "markdown",
      "source": [
        "## Part 4.a. Feature Engineering"
      ],
      "metadata": {
        "id": "NpUYvOJ8HVro"
      },
      "id": "NpUYvOJ8HVro"
    },
    {
      "cell_type": "code",
      "execution_count": 37,
      "metadata": {
        "id": "5ccf83c5-2396-4fb5-87b1-15c41b9a5870",
        "colab": {
          "base_uri": "https://localhost:8080/"
        },
        "outputId": "b79fd45c-d21e-4fee-bd28-abb6d2c6f623"
      },
      "outputs": [
        {
          "output_type": "stream",
          "name": "stdout",
          "text": [
            "root\n",
            " |-- appid: integer (nullable = true)\n",
            " |-- positive_ratio: double (nullable = true)\n",
            " |-- avg_playtime_at_review: double (nullable = true)\n",
            " |-- steam_purchase_ratio: double (nullable = true)\n",
            " |-- total_reviews: long (nullable = false)\n",
            " |-- price: double (nullable = true)\n",
            " |-- metacritic_score: double (nullable = true)\n",
            " |-- dlc_count: integer (nullable = true)\n",
            " |-- average_playtime_forever: integer (nullable = true)\n",
            " |-- median_playtime_forever: integer (nullable = true)\n",
            " |-- peak_ccu: integer (nullable = true)\n",
            " |-- vectorized_reviews_by_game: vector (nullable = true)\n",
            "\n",
            "+-------+------------------+----------------------+--------------------+-------------+-----+----------------+---------+------------------------+-----------------------+--------+--------------------------+\n",
            "|  appid|    positive_ratio|avg_playtime_at_review|steam_purchase_ratio|total_reviews|price|metacritic_score|dlc_count|average_playtime_forever|median_playtime_forever|peak_ccu|vectorized_reviews_by_game|\n",
            "+-------+------------------+----------------------+--------------------+-------------+-----+----------------+---------+------------------------+-----------------------+--------+--------------------------+\n",
            "|   4000|               1.0|    107531.29979466119|  0.7967145790554415|          487| 5.99|             0.0|        0|                    null|                      0|   36727|      [-0.0225479993969...|\n",
            "|  12210|0.7616580310880829|     4535.694300518135|  0.8238341968911918|          193| 6.99|            90.0|        0|                       0|                      0|    2593|                      null|\n",
            "| 632470|0.9453551912568307|    2572.3934426229507|  0.8797814207650273|          183|39.99|            97.0|        2|                    1206|                    459|    1727|                      null|\n",
            "| 945360|0.9333333333333333|    3732.6833333333334|  0.8055555555555556|          180| 2.99|            85.0|        0|                       0|                      0|    8022|                      null|\n",
            "|1222670|0.7099236641221374|     6494.229007633588|  0.7557251908396947|          262|  0.0|             0.0|       93|                    1817|                    205|   49608|      [-0.0352083668112...|\n",
            "+-------+------------------+----------------------+--------------------+-------------+-----+----------------+---------+------------------------+-----------------------+--------+--------------------------+\n",
            "only showing top 5 rows\n",
            "\n"
          ]
        }
      ],
      "source": [
        "# Cast boolean features in the \"reviews metadata\" data frame to integer\n",
        "review_pop_pred = reviews_df_processed_metadata.withColumn(\"positive_review\", f.col(\"positive_review\").cast(\"integer\"))\n",
        "review_pop_pred = review_pop_pred.withColumn(\"steam_purchase\", f.col(\"steam_purchase\").cast(\"integer\"))\n",
        "\n",
        "# Group the reviews metadata by game (app id) and aggregate specified features\n",
        "review_pop_pred = review_pop_pred.groupBy(\"appid\").agg(\n",
        "                        f.avg(\"positive_review\").alias(\"positive_ratio\"),\n",
        "                        f.avg(\"author_playtime_at_review\").alias(\"avg_playtime_at_review\"),\n",
        "                        f.avg(\"steam_purchase\").alias(\"steam_purchase_ratio\"),\n",
        "                        f.count(\"*\").alias(\"total_reviews\")\n",
        "                    )\n",
        "# Filter out games that have less than 100 reviews\n",
        "review_pop_pred = review_pop_pred.filter(\"total_reviews >= 100\")\n",
        "\n",
        "# Join the review metadata with specified games metadata\n",
        "review_pop_pred = review_pop_pred.join(games_df_processed.select(\"appid\", \"price\", \"metacritic_score\", \"dlc_count\",\"average_playtime_forever\", \"median_playtime_forever\",\n",
        "                                                                 \"peak_ccu\"), on=\"appid\", how=\"left\")\n",
        "\n",
        "# Join the metadata with the vectorized reviews\n",
        "ML_df = review_pop_pred.join(game_features_df.select(\"appid\", \"vectorized_reviews_by_game\"), on=\"appid\", how=\"left\")\n",
        "\n",
        "ML_df.printSchema()\n",
        "ML_df.count()\n",
        "ML_df.show(5)"
      ],
      "id": "5ccf83c5-2396-4fb5-87b1-15c41b9a5870"
    },
    {
      "cell_type": "code",
      "source": [
        "# Identify Nulls\n",
        "from pyspark.sql.functions import col, isnan, when, count\n",
        "\n",
        "ML_df.select([count(when(col(c).isNull(), c)).alias(c) for c in ML_df.columns]).show()"
      ],
      "metadata": {
        "colab": {
          "base_uri": "https://localhost:8080/"
        },
        "id": "O3LnB6G8hs_i",
        "outputId": "bd484ac8-e50e-4799-af45-e944f7eb8a0a"
      },
      "id": "O3LnB6G8hs_i",
      "execution_count": 38,
      "outputs": [
        {
          "output_type": "stream",
          "name": "stdout",
          "text": [
            "+-----+--------------+----------------------+--------------------+-------------+-----+----------------+---------+------------------------+-----------------------+--------+--------------------------+\n",
            "|appid|positive_ratio|avg_playtime_at_review|steam_purchase_ratio|total_reviews|price|metacritic_score|dlc_count|average_playtime_forever|median_playtime_forever|peak_ccu|vectorized_reviews_by_game|\n",
            "+-----+--------------+----------------------+--------------------+-------------+-----+----------------+---------+------------------------+-----------------------+--------+--------------------------+\n",
            "|    0|             0|                     0|                   0|            0|   33|              33|       33|                      47|                     39|      38|                       164|\n",
            "+-----+--------------+----------------------+--------------------+-------------+-----+----------------+---------+------------------------+-----------------------+--------+--------------------------+\n",
            "\n"
          ]
        }
      ]
    },
    {
      "cell_type": "code",
      "source": [
        "# Combine features into single \"features\" vector\n",
        "numeric_cols = ['avg_playtime_at_review', 'steam_purchase_ratio', 'total_reviews', 'price', 'metacritic_score', 'dlc_count',\n",
        "                'average_playtime_forever', 'median_playtime_forever', 'peak_ccu']"
      ],
      "metadata": {
        "id": "cMdP7xnYfcCB"
      },
      "id": "cMdP7xnYfcCB",
      "execution_count": 39,
      "outputs": []
    },
    {
      "cell_type": "code",
      "source": [
        "# Handle Nulls\n",
        "from pyspark.ml.linalg import Vectors, VectorUDT\n",
        "from pyspark.sql.functions import when, udf\n",
        "\n",
        "for c in numeric_cols:\n",
        "    ML_df = ML_df.withColumn(c, when(col(c).isNull(), 0).otherwise(col(c)))\n",
        "\n",
        "@udf(VectorUDT())\n",
        "def zero_vector_udf():\n",
        "    return Vectors.dense([0.0] * 50)\n",
        "\n",
        "ML_df = ML_df.withColumn(\"vectorized_reviews_by_game\",\n",
        "                         when(col(\"vectorized_reviews_by_game\").isNull(), zero_vector_udf()).otherwise(col(\"vectorized_reviews_by_game\")))"
      ],
      "metadata": {
        "id": "R1OUKn5ximJC"
      },
      "id": "R1OUKn5ximJC",
      "execution_count": 43,
      "outputs": []
    },
    {
      "cell_type": "code",
      "source": [
        "# Recheck Nulls\n",
        "ML_df.select([count(when(col(c).isNull(), c)).alias(c) for c in ML_df.columns]).show()"
      ],
      "metadata": {
        "colab": {
          "base_uri": "https://localhost:8080/"
        },
        "id": "hfVacC13kvNF",
        "outputId": "1937b076-cf4e-414d-d71f-76d2a28d196c"
      },
      "id": "hfVacC13kvNF",
      "execution_count": 44,
      "outputs": [
        {
          "output_type": "stream",
          "name": "stdout",
          "text": [
            "+-----+--------------+----------------------+--------------------+-------------+-----+----------------+---------+------------------------+-----------------------+--------+--------------------------+\n",
            "|appid|positive_ratio|avg_playtime_at_review|steam_purchase_ratio|total_reviews|price|metacritic_score|dlc_count|average_playtime_forever|median_playtime_forever|peak_ccu|vectorized_reviews_by_game|\n",
            "+-----+--------------+----------------------+--------------------+-------------+-----+----------------+---------+------------------------+-----------------------+--------+--------------------------+\n",
            "|    0|             0|                     0|                   0|            0|    0|               0|        0|                       0|                      0|       0|                         0|\n",
            "+-----+--------------+----------------------+--------------------+-------------+-----+----------------+---------+------------------------+-----------------------+--------+--------------------------+\n",
            "\n"
          ]
        }
      ]
    },
    {
      "cell_type": "code",
      "source": [
        "# Assemble Numeric Columns and Vector into a single features vector\n",
        "assembler = VectorAssembler(\n",
        "    inputCols=numeric_cols + ['vectorized_reviews_by_game'], outputCol='features'\n",
        ")"
      ],
      "metadata": {
        "id": "m3qxAMIFmbyF"
      },
      "id": "m3qxAMIFmbyF",
      "execution_count": 45,
      "outputs": []
    },
    {
      "cell_type": "markdown",
      "source": [
        "## Part 4.b. Random Forest Regressor Model"
      ],
      "metadata": {
        "id": "SA3Y9QECJ_lj"
      },
      "id": "SA3Y9QECJ_lj"
    },
    {
      "cell_type": "code",
      "execution_count": 46,
      "metadata": {
        "id": "e0d8afa5-aef6-493f-aca5-f675be69dd5c"
      },
      "outputs": [],
      "source": [
        "# Establish Random Forest Regressor\n",
        "rf = RandomForestRegressor(\n",
        "    featuresCol='features',\n",
        "    labelCol='positive_ratio',\n",
        "    predictionCol='prediction',\n",
        "    numTrees=100,\n",
        "    maxDepth=10,\n",
        "    seed=96\n",
        ")"
      ],
      "id": "e0d8afa5-aef6-493f-aca5-f675be69dd5c"
    },
    {
      "cell_type": "code",
      "source": [
        "# Establish ML pipeline\n",
        "pipeline = Pipeline(stages=[assembler, rf])"
      ],
      "metadata": {
        "id": "NyKkt5WGngQE"
      },
      "id": "NyKkt5WGngQE",
      "execution_count": 47,
      "outputs": []
    },
    {
      "cell_type": "code",
      "source": [
        "# Split into training and test data\n",
        "train_data, test_data = ML_df.randomSplit([0.8, 0.2], seed=96)"
      ],
      "metadata": {
        "id": "MLsawVcxnpdP"
      },
      "id": "MLsawVcxnpdP",
      "execution_count": 48,
      "outputs": []
    },
    {
      "cell_type": "code",
      "source": [
        "# Train model\n",
        "model = pipeline.fit(train_data)"
      ],
      "metadata": {
        "id": "lmaijVJ2n4Ku"
      },
      "id": "lmaijVJ2n4Ku",
      "execution_count": 49,
      "outputs": []
    },
    {
      "cell_type": "code",
      "source": [
        "# Evaluate model\n",
        "predictions = model.transform(test_data)\n",
        "\n",
        "evaluator = RegressionEvaluator(\n",
        "    labelCol='positive_ratio',\n",
        "    predictionCol='prediction',\n",
        "    metricName='rmse'\n",
        ")\n",
        "\n",
        "rmse = evaluator.evaluate(predictions)\n",
        "r2 = RegressionEvaluator(labelCol='positive_ratio', predictionCol='prediction', metricName='r2').evaluate(predictions)\n",
        "\n",
        "print(\"RMSE: \", rmse)\n",
        "print(\"R^2 Score: \", r2)"
      ],
      "metadata": {
        "colab": {
          "base_uri": "https://localhost:8080/"
        },
        "id": "9gkdg1MSoHSl",
        "outputId": "8723b4c9-7343-4bba-de45-184342adad31"
      },
      "id": "9gkdg1MSoHSl",
      "execution_count": 50,
      "outputs": [
        {
          "output_type": "stream",
          "name": "stdout",
          "text": [
            "RMSE:  0.19739007860252927\n",
            "R^2 Score:  0.11360942003205787\n"
          ]
        }
      ]
    }
  ],
  "metadata": {
    "kernelspec": {
      "display_name": "Python 3 (ipykernel)",
      "language": "python",
      "name": "python3"
    },
    "language_info": {
      "codemirror_mode": {
        "name": "ipython",
        "version": 3
      },
      "file_extension": ".py",
      "mimetype": "text/x-python",
      "name": "python",
      "nbconvert_exporter": "python",
      "pygments_lexer": "ipython3",
      "version": "3.11.6"
    },
    "colab": {
      "provenance": [],
      "collapsed_sections": [
        "87ce0912-dc4a-4d9d-8dc4-588c9d756224",
        "6d2fbae6-ed93-4d98-9c90-62bbc5e48e52",
        "86a29abe-29b9-4226-b100-542612d3cfd6",
        "3e2b2920-aae7-48e3-a00e-e6ef569a2de8"
      ]
    }
  },
  "nbformat": 4,
  "nbformat_minor": 5
}