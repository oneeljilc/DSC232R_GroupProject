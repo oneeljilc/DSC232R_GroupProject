{
 "cells": [
  {
   "cell_type": "markdown",
   "id": "6ebe255e-3a4f-44af-9ef3-7960e2a4a879",
   "metadata": {},
   "source": [
    "# Part 0: Raw Data & Environment Set-up"
   ]
  },
  {
   "cell_type": "markdown",
   "id": "87ce0912-dc4a-4d9d-8dc4-588c9d756224",
   "metadata": {
    "jp-MarkdownHeadingCollapsed": true
   },
   "source": [
    "## Raw Data"
   ]
  },
  {
   "cell_type": "markdown",
   "id": "1df7e34c-3466-4d1a-b2b3-bfde676872b6",
   "metadata": {},
   "source": [
    "The following code loads in and unzips the raw data. Raw data has been downloaded from Kaggle placed into public Google Cloud Storage for ease of access."
   ]
  },
  {
   "cell_type": "code",
   "execution_count": 2,
   "id": "a2bd2891-a891-416f-b976-1e7fce14d3d2",
   "metadata": {},
   "outputs": [
    {
     "name": "stdout",
     "output_type": "stream",
     "text": [
      "--2025-05-03 20:58:20--  https://storage.googleapis.com/dsc232r-group-project-data/steam-reviews.zip\n",
      "Resolving storage.googleapis.com (storage.googleapis.com)... 172.217.14.91, 142.250.176.27, 142.250.189.27, ...\n",
      "Connecting to storage.googleapis.com (storage.googleapis.com)|172.217.14.91|:443... connected.\n",
      "HTTP request sent, awaiting response... 200 OK\n",
      "Length: 17241297932 (16G) [application/x-zip-compressed]\n",
      "Saving to: ‘steam-reviews.zip’\n",
      "\n",
      "steam-reviews.zip   100%[===================>]  16.06G   111MB/s    in 2m 25s  \n",
      "\n",
      "2025-05-03 21:00:46 (113 MB/s) - ‘steam-reviews.zip’ saved [17241297932/17241297932]\n",
      "\n"
     ]
    }
   ],
   "source": [
    "# Loads in steam-reviews.zip (game reviews)\n",
    "url1 = (\"https://storage.googleapis.com/dsc232r-group-project-data/steam-reviews.zip\")\n",
    "!wget \"{url1}\""
   ]
  },
  {
   "cell_type": "code",
   "execution_count": 3,
   "id": "27f2ae2d-bac0-4ae2-b547-14ab39dba3de",
   "metadata": {},
   "outputs": [
    {
     "name": "stdout",
     "output_type": "stream",
     "text": [
      "Archive:  steam-reviews.zip\n",
      "  inflating: /home/joneel/joneel/Group_Project/raw_data/steam-reviews/all_reviews/all_reviews.csv  \n",
      "  inflating: /home/joneel/joneel/Group_Project/raw_data/steam-reviews/weighted_score_above_08.csv  \n"
     ]
    }
   ],
   "source": [
    "# Extracts steam-reviews.zip into specified directory and deletes .zip file\n",
    "!unzip steam-reviews.zip -d /home/joneel/joneel/Group_Project/raw_data/steam-reviews && rm steam-reviews.zip"
   ]
  },
  {
   "cell_type": "code",
   "execution_count": 1,
   "id": "b7f86872-6b6a-4804-a9b0-8a0167fbd5a2",
   "metadata": {},
   "outputs": [
    {
     "name": "stdout",
     "output_type": "stream",
     "text": [
      "--2025-05-04 22:35:19--  https://storage.googleapis.com/dsc232r-group-project-data/games.csv\n",
      "Resolving storage.googleapis.com (storage.googleapis.com)... 142.250.217.155, 172.217.14.123, 142.250.68.27, ...\n",
      "Connecting to storage.googleapis.com (storage.googleapis.com)|142.250.217.155|:443... connected.\n",
      "HTTP request sent, awaiting response... 200 OK\n",
      "Length: 468641107 (447M) [application/vnd.ms-excel]\n",
      "Saving to: ‘games.csv’\n",
      "\n",
      "games.csv           100%[===================>] 446.93M   115MB/s    in 4.3s    \n",
      "\n",
      "2025-05-04 22:35:23 (105 MB/s) - ‘games.csv’ saved [468641107/468641107]\n",
      "\n"
     ]
    }
   ],
   "source": [
    "# Loads in games.csv (games metadata)\n",
    "url2 = (\"https://storage.googleapis.com/dsc232r-group-project-data/games.csv\")\n",
    "!wget \"{url2}\""
   ]
  },
  {
   "cell_type": "code",
   "execution_count": 2,
   "id": "b88c89a1-1d06-4337-9bec-dc1239251f2e",
   "metadata": {},
   "outputs": [],
   "source": [
    "# Moves games.csv into specified directory\n",
    "!mv games.csv /home/joneel/joneel/Group_Project/raw_data"
   ]
  },
  {
   "cell_type": "markdown",
   "id": "c8cf6eb9-2275-432f-a249-5bbf345329df",
   "metadata": {},
   "source": [
    "## Environment Set-up"
   ]
  },
  {
   "cell_type": "markdown",
   "id": "1bed7c62-dcc8-431b-9972-cf754dc6f002",
   "metadata": {},
   "source": [
    "Set-up on the cluster included 30 cores with 60GB memory in order to load and process this dataset (total ~45GB)."
   ]
  },
  {
   "cell_type": "code",
   "execution_count": 1,
   "id": "547c0e23-fd38-4653-af38-87ee9a03e297",
   "metadata": {},
   "outputs": [],
   "source": [
    "# Import required libraries\n",
    "import os, pickle, glob\n",
    "from pyspark.sql import SparkSession\n",
    "from pyspark.sql import functions as f\n",
    "from pyspark import StorageLevel"
   ]
  },
  {
   "cell_type": "code",
   "execution_count": 2,
   "id": "71f3d832-d431-4a27-8196-bc321af85cfd",
   "metadata": {},
   "outputs": [],
   "source": [
    "#sc.stop() # To stop a currently running SparkSession, if needed for troubleshooting/development"
   ]
  },
  {
   "cell_type": "code",
   "execution_count": 3,
   "id": "67f28e6b-6aeb-499d-ab0c-59965f288ccd",
   "metadata": {},
   "outputs": [],
   "source": [
    "# Establishes Spark Session\n",
    "sc = SparkSession.builder \\\n",
    "    .config(\"spark.driver.memory\", \"2g\") \\\n",
    "\t.config(\"spark.executor.memory\", \"2g\") \\\n",
    "    .config('spark.executor.instances', 69) \\\n",
    "\t.appName(\"Review_Analysis\") \\\n",
    "\t.getOrCreate()"
   ]
  },
  {
   "cell_type": "code",
   "execution_count": 4,
   "id": "b39166eb-9951-4a97-a532-4a703c4b0cde",
   "metadata": {},
   "outputs": [],
   "source": [
    "# Loads all_reviews.csv file into a spark dataframe\n",
    "reviews_df = sc.read.csv(\"/home/joneel/joneel/Group_Project/raw_data/steam-reviews/all_reviews/all_reviews.csv\", header=True, inferSchema=True)"
   ]
  },
  {
   "cell_type": "code",
   "execution_count": 6,
   "id": "7d14bdec-707d-4266-91bb-b05e9066797c",
   "metadata": {},
   "outputs": [
    {
     "name": "stdout",
     "output_type": "stream",
     "text": [
      "root\n",
      " |-- recommendationid: string (nullable = true)\n",
      " |-- appid: string (nullable = true)\n",
      " |-- game: string (nullable = true)\n",
      " |-- author_steamid: string (nullable = true)\n",
      " |-- author_num_games_owned: string (nullable = true)\n",
      " |-- author_num_reviews: string (nullable = true)\n",
      " |-- author_playtime_forever: string (nullable = true)\n",
      " |-- author_playtime_last_two_weeks: string (nullable = true)\n",
      " |-- author_playtime_at_review: string (nullable = true)\n",
      " |-- author_last_played: string (nullable = true)\n",
      " |-- language: string (nullable = true)\n",
      " |-- review: string (nullable = true)\n",
      " |-- timestamp_created: string (nullable = true)\n",
      " |-- timestamp_updated: string (nullable = true)\n",
      " |-- voted_up: string (nullable = true)\n",
      " |-- votes_up: string (nullable = true)\n",
      " |-- votes_funny: string (nullable = true)\n",
      " |-- weighted_vote_score: string (nullable = true)\n",
      " |-- comment_count: string (nullable = true)\n",
      " |-- steam_purchase: string (nullable = true)\n",
      " |-- received_for_free: string (nullable = true)\n",
      " |-- written_during_early_access: string (nullable = true)\n",
      " |-- hidden_in_steam_china: string (nullable = true)\n",
      " |-- steam_china_location: string (nullable = true)\n",
      "\n",
      "Number of reviews: 113885601\n"
     ]
    }
   ],
   "source": [
    "# Displays reviews_df schema and counts total # of reviews\n",
    "reviews_df.printSchema()\n",
    "print(f\"Number of reviews: {reviews_df.count()}\")"
   ]
  },
  {
   "cell_type": "code",
   "execution_count": 7,
   "id": "e5f0fbad-bd70-46ff-b9d0-27a004aa8671",
   "metadata": {},
   "outputs": [
    {
     "name": "stdout",
     "output_type": "stream",
     "text": [
      "root\n",
      " |-- recommendationid: string (nullable = true)\n",
      " |-- appid: string (nullable = true)\n",
      " |-- game: string (nullable = true)\n",
      " |-- author_steamid: string (nullable = true)\n",
      " |-- author_num_games_owned: string (nullable = true)\n",
      " |-- author_num_reviews: string (nullable = true)\n",
      " |-- author_playtime_forever: string (nullable = true)\n",
      " |-- author_playtime_last_two_weeks: string (nullable = true)\n",
      " |-- author_playtime_at_review: string (nullable = true)\n",
      " |-- author_last_played: string (nullable = true)\n",
      " |-- language: string (nullable = true)\n",
      " |-- review: string (nullable = true)\n",
      " |-- timestamp_created: string (nullable = true)\n",
      " |-- timestamp_updated: string (nullable = true)\n",
      " |-- voted_up: string (nullable = true)\n",
      " |-- votes_up: string (nullable = true)\n",
      " |-- votes_funny: string (nullable = true)\n",
      " |-- weighted_vote_score: string (nullable = true)\n",
      " |-- comment_count: string (nullable = true)\n",
      " |-- steam_purchase: string (nullable = true)\n",
      " |-- received_for_free: string (nullable = true)\n",
      " |-- written_during_early_access: string (nullable = true)\n",
      "\n"
     ]
    }
   ],
   "source": [
    "# Removes two columns related to Chinese gaming market (not relevant for this analysis)\n",
    "reviews_df = reviews_df.drop(\"hidden_in_steam_china\", \"steam_china_location\")\n",
    "reviews_df.printSchema()"
   ]
  },
  {
   "cell_type": "code",
   "execution_count": 8,
   "id": "4fd8c8e2-a957-48b6-8826-e4f75704e48b",
   "metadata": {},
   "outputs": [
    {
     "name": "stdout",
     "output_type": "stream",
     "text": [
      "+--------+\n",
      "|language|\n",
      "+--------+\n",
      "| english|\n",
      "+--------+\n",
      "\n",
      "Number of reviews: 51544179\n"
     ]
    }
   ],
   "source": [
    "# Filters dataframe to include only reviews in English & counts new number of reviews\n",
    "reviews_df_processed = reviews_df.filter(reviews_df.language == 'english')\n",
    "reviews_df_processed.select(\"language\").distinct().show()\n",
    "print(f\"Number of reviews: {reviews_df_processed.count()}\")"
   ]
  },
  {
   "cell_type": "code",
   "execution_count": 46,
   "id": "a7ffb95e-5ab4-49c5-8675-dfd652f1a31a",
   "metadata": {},
   "outputs": [
    {
     "name": "stdout",
     "output_type": "stream",
     "text": [
      "Number of reviews: 51544179\n"
     ]
    }
   ],
   "source": [
    "# Drops rows that contain null values or duplicates in ids & review columns\n",
    "reviews_df_processed = reviews_df_processed.na.drop(subset=[\"recommendationid\", \"appid\", \"author_steamid\", \"review\"])\n",
    "reviews_df_processed = reviews_df_processed.dropDuplicates(subset=[\"recommendationid\"])\n",
    "reviews_df_processed = reviews_df_processed.dropDuplicates(subset=[\"review\"])\n",
    "print(f\"Number of reviews: {reviews_df_processed.count()}\")"
   ]
  },
  {
   "cell_type": "code",
   "execution_count": 6,
   "id": "2050565b-e9ba-4cc6-9390-2198743ea07e",
   "metadata": {},
   "outputs": [],
   "source": [
    "games_df = sc.read.csv(\"/home/joneel/joneel/Group_Project/raw_data/games.csv\", header=True, inferSchema=True)"
   ]
  },
  {
   "cell_type": "code",
   "execution_count": 7,
   "id": "f8167541-4de9-4e50-bf4f-d67b1c204cb5",
   "metadata": {},
   "outputs": [
    {
     "name": "stdout",
     "output_type": "stream",
     "text": [
      "root\n",
      " |-- appid: integer (nullable = true)\n",
      " |-- name: string (nullable = true)\n",
      " |-- release_date: string (nullable = true)\n",
      " |-- required_age: string (nullable = true)\n",
      " |-- price: string (nullable = true)\n",
      " |-- dlc_count: double (nullable = true)\n",
      " |-- detailed_description: string (nullable = true)\n",
      " |-- about_the_game: string (nullable = true)\n",
      " |-- short_description: string (nullable = true)\n",
      " |-- reviews: string (nullable = true)\n",
      " |-- header_image: string (nullable = true)\n",
      " |-- website: string (nullable = true)\n",
      " |-- support_url: string (nullable = true)\n",
      " |-- support_email: string (nullable = true)\n",
      " |-- windows: string (nullable = true)\n",
      " |-- mac: string (nullable = true)\n",
      " |-- linux: string (nullable = true)\n",
      " |-- metacritic_score: string (nullable = true)\n",
      " |-- metacritic_url: string (nullable = true)\n",
      " |-- achievements: string (nullable = true)\n",
      " |-- recommendations: string (nullable = true)\n",
      " |-- notes: string (nullable = true)\n",
      " |-- supported_languages: string (nullable = true)\n",
      " |-- full_audio_languages: string (nullable = true)\n",
      " |-- packages: string (nullable = true)\n",
      " |-- developers: string (nullable = true)\n",
      " |-- publishers: string (nullable = true)\n",
      " |-- categories: string (nullable = true)\n",
      " |-- genres: string (nullable = true)\n",
      " |-- screenshots: string (nullable = true)\n",
      " |-- movies: string (nullable = true)\n",
      " |-- user_score: string (nullable = true)\n",
      " |-- score_rank: string (nullable = true)\n",
      " |-- positive: string (nullable = true)\n",
      " |-- negative: string (nullable = true)\n",
      " |-- estimated_owners: string (nullable = true)\n",
      " |-- average_playtime_forever: string (nullable = true)\n",
      " |-- average_playtime_2weeks: string (nullable = true)\n",
      " |-- median_playtime_forever: string (nullable = true)\n",
      " |-- median_playtime_2weeks: string (nullable = true)\n",
      " |-- discount: string (nullable = true)\n",
      " |-- peak_ccu: string (nullable = true)\n",
      " |-- tags: string (nullable = true)\n",
      " |-- pct_pos_total: string (nullable = true)\n",
      " |-- num_reviews_total: string (nullable = true)\n",
      " |-- pct_pos_recent: string (nullable = true)\n",
      " |-- num_reviews_recent: string (nullable = true)\n",
      "\n",
      "Number of games: 89618\n"
     ]
    }
   ],
   "source": [
    "games_df.printSchema()\n",
    "print(f\"Number of games: {games_df.count()}\")"
   ]
  },
  {
   "cell_type": "code",
   "execution_count": 11,
   "id": "2e550a5a-cbfa-434d-9fba-ea53968d01c5",
   "metadata": {},
   "outputs": [
    {
     "name": "stdout",
     "output_type": "stream",
     "text": [
      "root\n",
      " |-- appid: integer (nullable = true)\n",
      " |-- name: string (nullable = true)\n",
      " |-- release_date: string (nullable = true)\n",
      " |-- required_age: string (nullable = true)\n",
      " |-- price: string (nullable = true)\n",
      " |-- dlc_count: double (nullable = true)\n",
      " |-- detailed_description: string (nullable = true)\n",
      " |-- about_the_game: string (nullable = true)\n",
      " |-- short_description: string (nullable = true)\n",
      " |-- windows: string (nullable = true)\n",
      " |-- mac: string (nullable = true)\n",
      " |-- linux: string (nullable = true)\n",
      " |-- metacritic_score: string (nullable = true)\n",
      " |-- metacritic_url: string (nullable = true)\n",
      " |-- achievements: string (nullable = true)\n",
      " |-- recommendations: string (nullable = true)\n",
      " |-- notes: string (nullable = true)\n",
      " |-- supported_languages: string (nullable = true)\n",
      " |-- packages: string (nullable = true)\n",
      " |-- developers: string (nullable = true)\n",
      " |-- publishers: string (nullable = true)\n",
      " |-- categories: string (nullable = true)\n",
      " |-- genres: string (nullable = true)\n",
      " |-- user_score: string (nullable = true)\n",
      " |-- score_rank: string (nullable = true)\n",
      " |-- positive: string (nullable = true)\n",
      " |-- negative: string (nullable = true)\n",
      " |-- estimated_owners: string (nullable = true)\n",
      " |-- average_playtime_forever: string (nullable = true)\n",
      " |-- average_playtime_2weeks: string (nullable = true)\n",
      " |-- median_playtime_forever: string (nullable = true)\n",
      " |-- median_playtime_2weeks: string (nullable = true)\n",
      " |-- discount: string (nullable = true)\n",
      " |-- peak_ccu: string (nullable = true)\n",
      " |-- tags: string (nullable = true)\n",
      " |-- pct_pos_total: string (nullable = true)\n",
      " |-- num_reviews_total: string (nullable = true)\n",
      " |-- pct_pos_recent: string (nullable = true)\n",
      " |-- num_reviews_recent: string (nullable = true)\n",
      "\n"
     ]
    }
   ],
   "source": [
    "games_df_processed = games_df.drop(\"reviews\", \"header_image\", \"website\", \"support_url\", \"support_email\", \"full_audio_languages\", \"screenshots\", \"movies\")\n",
    "games_df_processed.printSchema()"
   ]
  },
  {
   "cell_type": "code",
   "execution_count": 12,
   "id": "2a887192-ba4e-4001-8e0c-c196eb3d8f02",
   "metadata": {},
   "outputs": [
    {
     "name": "stdout",
     "output_type": "stream",
     "text": [
      "Number of games: 89618\n",
      "Number of games: 89618\n"
     ]
    }
   ],
   "source": [
    "print(f\"Number of games: {games_df_processed.count()}\")\n",
    "games_df_processed = games_df_processed.na.drop(subset=[\"appid\"])\n",
    "print(f\"Number of games: {games_df_processed.count()}\")"
   ]
  },
  {
   "cell_type": "code",
   "execution_count": null,
   "id": "994fcbc4-fcc7-4063-8338-94d0da3b1812",
   "metadata": {},
   "outputs": [],
   "source": [
    "\"Tokenize reviews, see # of reviews per author, break down tags and genres\"\n",
    "\"Make some plots to see data distributions (# of reviews, reviews per author, dates, best and worst reviewed games?)\""
   ]
  }
 ],
 "metadata": {
  "kernelspec": {
   "display_name": "Python 3 (ipykernel)",
   "language": "python",
   "name": "python3"
  },
  "language_info": {
   "codemirror_mode": {
    "name": "ipython",
    "version": 3
   },
   "file_extension": ".py",
   "mimetype": "text/x-python",
   "name": "python",
   "nbconvert_exporter": "python",
   "pygments_lexer": "ipython3",
   "version": "3.11.6"
  }
 },
 "nbformat": 4,
 "nbformat_minor": 5
}
