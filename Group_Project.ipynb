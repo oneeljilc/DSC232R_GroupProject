{
 "cells": [
  {
   "cell_type": "markdown",
   "id": "6ebe255e-3a4f-44af-9ef3-7960e2a4a879",
   "metadata": {},
   "source": [
    "# Part 0: Raw Data & Environment Set-up"
   ]
  },
  {
   "cell_type": "markdown",
   "id": "87ce0912-dc4a-4d9d-8dc4-588c9d756224",
   "metadata": {
    "jp-MarkdownHeadingCollapsed": true
   },
   "source": [
    "## Raw Data"
   ]
  },
  {
   "cell_type": "markdown",
   "id": "1df7e34c-3466-4d1a-b2b3-bfde676872b6",
   "metadata": {},
   "source": [
    "The following code loads in and unzips the raw data. Raw data has been downloaded from Kaggle placed into public Google Cloud Storage for ease of access."
   ]
  },
  {
   "cell_type": "code",
   "execution_count": null,
   "id": "a2bd2891-a891-416f-b976-1e7fce14d3d2",
   "metadata": {},
   "outputs": [],
   "source": [
    "# Loads in steam-reviews.zip (game reviews)\n",
    "url1 = (\"https://storage.googleapis.com/dsc232r-group-project-data/steam-reviews.zip\")\n",
    "!wget \"{url1}\""
   ]
  },
  {
   "cell_type": "code",
   "execution_count": null,
   "id": "27f2ae2d-bac0-4ae2-b547-14ab39dba3de",
   "metadata": {},
   "outputs": [],
   "source": [
    "# Extracts steam-reviews.zip into specified directory and deletes .zip file\n",
    "!unzip steam-reviews.zip -d /home/joneel/joneel/Group_Project/raw_data/steam-reviews && rm steam-reviews.zip"
   ]
  },
  {
   "cell_type": "code",
   "execution_count": null,
   "id": "b7f86872-6b6a-4804-a9b0-8a0167fbd5a2",
   "metadata": {},
   "outputs": [],
   "source": [
    "# Loads in games.csv (games metadata)\n",
    "url2 = (\"https://storage.googleapis.com/dsc232r-group-project-data/games.csv\")\n",
    "!wget \"{url2}\""
   ]
  },
  {
   "cell_type": "code",
   "execution_count": null,
   "id": "b88c89a1-1d06-4337-9bec-dc1239251f2e",
   "metadata": {},
   "outputs": [],
   "source": [
    "# Moves games.csv into specified directory\n",
    "!mv games.csv /home/joneel/joneel/Group_Project/raw_data"
   ]
  },
  {
   "cell_type": "markdown",
   "id": "c8cf6eb9-2275-432f-a249-5bbf345329df",
   "metadata": {},
   "source": [
    "## Environment Set-up"
   ]
  },
  {
   "cell_type": "markdown",
   "id": "1bed7c62-dcc8-431b-9972-cf754dc6f002",
   "metadata": {},
   "source": [
    "Set-up on the cluster included 30 cores with 60GB memory in order to load and process this dataset (total ~45GB)."
   ]
  },
  {
   "cell_type": "code",
   "execution_count": 1,
   "id": "547c0e23-fd38-4653-af38-87ee9a03e297",
   "metadata": {},
   "outputs": [],
   "source": [
    "# Import required libraries\n",
    "import os, pickle, glob\n",
    "from pyspark.sql import SparkSession\n",
    "from pyspark.sql import functions as f\n",
    "from pyspark import StorageLevel"
   ]
  },
  {
   "cell_type": "code",
   "execution_count": 2,
   "id": "71f3d832-d431-4a27-8196-bc321af85cfd",
   "metadata": {},
   "outputs": [],
   "source": [
    "#sc.stop() # To stop a currently running SparkSession, if needed for troubleshooting/development"
   ]
  },
  {
   "cell_type": "code",
   "execution_count": 3,
   "id": "67f28e6b-6aeb-499d-ab0c-59965f288ccd",
   "metadata": {},
   "outputs": [],
   "source": [
    "# Establishes Spark Session\n",
    "sc = SparkSession.builder \\\n",
    "    .config(\"spark.driver.memory\", \"2g\") \\\n",
    "\t.config(\"spark.executor.memory\", \"2g\") \\\n",
    "    .config('spark.executor.instances', 29) \\\n",
    "\t.appName(\"Review_Analysis\") \\\n",
    "\t.getOrCreate()"
   ]
  },
  {
   "cell_type": "code",
   "execution_count": 4,
   "id": "b39166eb-9951-4a97-a532-4a703c4b0cde",
   "metadata": {},
   "outputs": [],
   "source": [
    "# Loads all_reviews.csv file into a spark dataframe\n",
    "reviews_df = sc.read.csv(\"/home/joneel/joneel/Group_Project/raw_data/steam-reviews/all_reviews/all_reviews.csv\", header=True, inferSchema=True)"
   ]
  },
  {
   "cell_type": "code",
   "execution_count": 5,
   "id": "7d14bdec-707d-4266-91bb-b05e9066797c",
   "metadata": {},
   "outputs": [
    {
     "name": "stdout",
     "output_type": "stream",
     "text": [
      "root\n",
      " |-- recommendationid: string (nullable = true)\n",
      " |-- appid: string (nullable = true)\n",
      " |-- game: string (nullable = true)\n",
      " |-- author_steamid: string (nullable = true)\n",
      " |-- author_num_games_owned: string (nullable = true)\n",
      " |-- author_num_reviews: string (nullable = true)\n",
      " |-- author_playtime_forever: string (nullable = true)\n",
      " |-- author_playtime_last_two_weeks: string (nullable = true)\n",
      " |-- author_playtime_at_review: string (nullable = true)\n",
      " |-- author_last_played: string (nullable = true)\n",
      " |-- language: string (nullable = true)\n",
      " |-- review: string (nullable = true)\n",
      " |-- timestamp_created: string (nullable = true)\n",
      " |-- timestamp_updated: string (nullable = true)\n",
      " |-- voted_up: string (nullable = true)\n",
      " |-- votes_up: string (nullable = true)\n",
      " |-- votes_funny: string (nullable = true)\n",
      " |-- weighted_vote_score: string (nullable = true)\n",
      " |-- comment_count: string (nullable = true)\n",
      " |-- steam_purchase: string (nullable = true)\n",
      " |-- received_for_free: string (nullable = true)\n",
      " |-- written_during_early_access: string (nullable = true)\n",
      " |-- hidden_in_steam_china: string (nullable = true)\n",
      " |-- steam_china_location: string (nullable = true)\n",
      "\n",
      "Number of reviews: 113885601\n"
     ]
    }
   ],
   "source": [
    "# Displays reviews_df schema and counts total # of reviews\n",
    "reviews_df.printSchema()\n",
    "print(f\"Number of reviews: {reviews_df.count()}\")"
   ]
  },
  {
   "cell_type": "code",
   "execution_count": 6,
   "id": "e5f0fbad-bd70-46ff-b9d0-27a004aa8671",
   "metadata": {},
   "outputs": [
    {
     "name": "stdout",
     "output_type": "stream",
     "text": [
      "root\n",
      " |-- recommendationid: string (nullable = true)\n",
      " |-- appid: string (nullable = true)\n",
      " |-- game: string (nullable = true)\n",
      " |-- author_steamid: string (nullable = true)\n",
      " |-- author_num_games_owned: string (nullable = true)\n",
      " |-- author_num_reviews: string (nullable = true)\n",
      " |-- author_playtime_forever: string (nullable = true)\n",
      " |-- author_playtime_last_two_weeks: string (nullable = true)\n",
      " |-- author_playtime_at_review: string (nullable = true)\n",
      " |-- author_last_played: string (nullable = true)\n",
      " |-- language: string (nullable = true)\n",
      " |-- review: string (nullable = true)\n",
      " |-- timestamp_created: string (nullable = true)\n",
      " |-- timestamp_updated: string (nullable = true)\n",
      " |-- voted_up: string (nullable = true)\n",
      " |-- votes_up: string (nullable = true)\n",
      " |-- votes_funny: string (nullable = true)\n",
      " |-- weighted_vote_score: string (nullable = true)\n",
      " |-- comment_count: string (nullable = true)\n",
      " |-- steam_purchase: string (nullable = true)\n",
      " |-- received_for_free: string (nullable = true)\n",
      " |-- written_during_early_access: string (nullable = true)\n",
      "\n"
     ]
    }
   ],
   "source": [
    "# Removes two columns related to Chinese gaming market (not relevant for this analysis)\n",
    "reviews_df = reviews_df.drop(\"hidden_in_steam_china\", \"steam_china_location\")\n",
    "reviews_df.printSchema()"
   ]
  },
  {
   "cell_type": "code",
   "execution_count": 7,
   "id": "4fd8c8e2-a957-48b6-8826-e4f75704e48b",
   "metadata": {},
   "outputs": [
    {
     "name": "stdout",
     "output_type": "stream",
     "text": [
      "+--------+\n",
      "|language|\n",
      "+--------+\n",
      "| english|\n",
      "+--------+\n",
      "\n",
      "Number of reviews: 51544179\n"
     ]
    }
   ],
   "source": [
    "# Filters dataframe to include only reviews in English & counts new number of reviews\n",
    "reviews_df_processed = reviews_df.filter(reviews_df.language == 'english')\n",
    "reviews_df_processed.select(\"language\").distinct().show()\n",
    "print(f\"Number of reviews: {reviews_df_processed.count()}\")"
   ]
  },
  {
   "cell_type": "code",
   "execution_count": 8,
   "id": "a7ffb95e-5ab4-49c5-8675-dfd652f1a31a",
   "metadata": {},
   "outputs": [
    {
     "name": "stdout",
     "output_type": "stream",
     "text": [
      "Number of reviews: 51544179\n",
      "Number of reviews: 51351970\n"
     ]
    }
   ],
   "source": [
    "# Drops rows that contain null values in the id or reviews column & drop duplicate recommendation ids\n",
    "reviews_df_processed = reviews_df_processed.na.drop(subset=[\"recommendationid\", \"appid\", \"author_steamid\", \"review\"])\n",
    "print(f\"Number of reviews: {reviews_df_processed.count()}\")\n",
    "reviews_df_processed = reviews_df_processed.dropDuplicates(subset=[\"recommendationid\"])\n",
    "print(f\"Number of reviews: {reviews_df_processed.count()}\")"
   ]
  },
  {
   "cell_type": "code",
   "execution_count": 18,
   "id": "c1f71791-54f7-46e2-be21-05f88c3fa101",
   "metadata": {},
   "outputs": [
    {
     "name": "stdout",
     "output_type": "stream",
     "text": [
      "root\n",
      " |-- recommendationid: string (nullable = true)\n",
      " |-- appid: string (nullable = true)\n",
      " |-- game: string (nullable = true)\n",
      " |-- author_steamid: string (nullable = true)\n",
      " |-- author_num_games_owned: integer (nullable = true)\n",
      " |-- author_num_reviews: integer (nullable = true)\n",
      " |-- author_playtime_forever: integer (nullable = true)\n",
      " |-- author_playtime_last_two_weeks: integer (nullable = true)\n",
      " |-- author_playtime_at_review: integer (nullable = true)\n",
      " |-- author_last_played: string (nullable = true)\n",
      " |-- language: string (nullable = true)\n",
      " |-- review: string (nullable = true)\n",
      " |-- timestamp_created: string (nullable = true)\n",
      " |-- timestamp_updated: string (nullable = true)\n",
      " |-- voted_up: string (nullable = true)\n",
      " |-- votes_up: string (nullable = true)\n",
      " |-- votes_funny: string (nullable = true)\n",
      " |-- weighted_vote_score: string (nullable = true)\n",
      " |-- comment_count: string (nullable = true)\n",
      " |-- steam_purchase: string (nullable = true)\n",
      " |-- received_for_free: string (nullable = true)\n",
      " |-- written_during_early_access: string (nullable = true)\n",
      "\n"
     ]
    }
   ],
   "source": [
    "reviews_df_processed = reviews_df_processed.withColumn(\"author_num_games_owned\", f.col(\"author_num_games_owned\").cast(\"integer\"))\n",
    "reviews_df_processed = reviews_df_processed.withColumn(\"author_num_reviews\", f.col(\"author_num_reviews\").cast(\"integer\"))\n",
    "reviews_df_processed = reviews_df_processed.withColumn(\"author_playtime_forever\", f.col(\"author_playtime_forever\").cast(\"integer\"))\n",
    "reviews_df_processed = reviews_df_processed.withColumn(\"author_playtime_last_two_weeks\", f.col(\"author_playtime_last_two_weeks\").cast(\"integer\"))\n",
    "reviews_df_processed = reviews_df_processed.withColumn(\"author_playtime_at_review\", f.col(\"author_playtime_at_review\").cast(\"integer\"))\n",
    "reviews_df_processed.printSchema()"
   ]
  },
  {
   "cell_type": "code",
   "execution_count": 21,
   "id": "e224a3f2-9383-4514-8052-f115dbbfc765",
   "metadata": {},
   "outputs": [
    {
     "ename": "AnalysisException",
     "evalue": "[DATATYPE_MISMATCH.UNEXPECTED_INPUT_TYPE] Cannot resolve \"from_unixtime(author_last_played, yyyy-MM-dd HH:mm:ss)\" due to data type mismatch: Parameter 1 requires the \"BIGINT\" type, however \"author_last_played\" has the type \"TIMESTAMP\".;\n'Project [recommendationid#17, appid#18, game#19, author_steamid#20, author_num_games_owned#781, author_num_reviews#804, author_playtime_forever#827, author_playtime_last_two_weeks#850, author_playtime_at_review#873, cast(from_unixtime(author_last_played#958, yyyy-MM-dd HH:mm:ss, Some(Etc/UTC)) as timestamp) AS author_last_played#981, language#27, review#28, timestamp_created#29, timestamp_updated#30, voted_up#31, votes_up#32, votes_funny#33, weighted_vote_score#34, comment_count#35, steam_purchase#36, received_for_free#37, written_during_early_access#38]\n+- Project [recommendationid#17, appid#18, game#19, author_steamid#20, author_num_games_owned#781, author_num_reviews#804, author_playtime_forever#827, author_playtime_last_two_weeks#850, author_playtime_at_review#873, cast(from_unixtime(cast(author_last_played#26 as bigint), yyyy-MM-dd HH:mm:ss, Some(Etc/UTC)) as timestamp) AS author_last_played#958, language#27, review#28, timestamp_created#29, timestamp_updated#30, voted_up#31, votes_up#32, votes_funny#33, weighted_vote_score#34, comment_count#35, steam_purchase#36, received_for_free#37, written_during_early_access#38]\n   +- Project [recommendationid#17, appid#18, game#19, author_steamid#20, author_num_games_owned#781, author_num_reviews#804, author_playtime_forever#827, author_playtime_last_two_weeks#850, cast(author_playtime_at_review#25 as int) AS author_playtime_at_review#873, author_last_played#26, language#27, review#28, timestamp_created#29, timestamp_updated#30, voted_up#31, votes_up#32, votes_funny#33, weighted_vote_score#34, comment_count#35, steam_purchase#36, received_for_free#37, written_during_early_access#38]\n      +- Project [recommendationid#17, appid#18, game#19, author_steamid#20, author_num_games_owned#781, author_num_reviews#804, author_playtime_forever#827, cast(author_playtime_last_two_weeks#696 as int) AS author_playtime_last_two_weeks#850, author_playtime_at_review#25, author_last_played#26, language#27, review#28, timestamp_created#29, timestamp_updated#30, voted_up#31, votes_up#32, votes_funny#33, weighted_vote_score#34, comment_count#35, steam_purchase#36, received_for_free#37, written_during_early_access#38]\n         +- Project [recommendationid#17, appid#18, game#19, author_steamid#20, author_num_games_owned#781, author_num_reviews#804, cast(author_playtime_forever#673 as int) AS author_playtime_forever#827, author_playtime_last_two_weeks#696, author_playtime_at_review#25, author_last_played#26, language#27, review#28, timestamp_created#29, timestamp_updated#30, voted_up#31, votes_up#32, votes_funny#33, weighted_vote_score#34, comment_count#35, steam_purchase#36, received_for_free#37, written_during_early_access#38]\n            +- Project [recommendationid#17, appid#18, game#19, author_steamid#20, author_num_games_owned#781, cast(author_num_reviews#650 as int) AS author_num_reviews#804, author_playtime_forever#673, author_playtime_last_two_weeks#696, author_playtime_at_review#25, author_last_played#26, language#27, review#28, timestamp_created#29, timestamp_updated#30, voted_up#31, votes_up#32, votes_funny#33, weighted_vote_score#34, comment_count#35, steam_purchase#36, received_for_free#37, written_during_early_access#38]\n               +- Project [recommendationid#17, appid#18, game#19, author_steamid#20, cast(author_num_games_owned#627 as int) AS author_num_games_owned#781, author_num_reviews#650, author_playtime_forever#673, author_playtime_last_two_weeks#696, author_playtime_at_review#25, author_last_played#26, language#27, review#28, timestamp_created#29, timestamp_updated#30, voted_up#31, votes_up#32, votes_funny#33, weighted_vote_score#34, comment_count#35, steam_purchase#36, received_for_free#37, written_during_early_access#38]\n                  +- Project [recommendationid#17, appid#18, game#19, author_steamid#20, author_num_games_owned#627, author_num_reviews#650, author_playtime_forever#673, cast(author_playtime_last_two_weeks#24 as int) AS author_playtime_last_two_weeks#696, author_playtime_at_review#25, author_last_played#26, language#27, review#28, timestamp_created#29, timestamp_updated#30, voted_up#31, votes_up#32, votes_funny#33, weighted_vote_score#34, comment_count#35, steam_purchase#36, received_for_free#37, written_during_early_access#38]\n                     +- Project [recommendationid#17, appid#18, game#19, author_steamid#20, author_num_games_owned#627, author_num_reviews#650, cast(author_playtime_forever#542 as int) AS author_playtime_forever#673, author_playtime_last_two_weeks#24, author_playtime_at_review#25, author_last_played#26, language#27, review#28, timestamp_created#29, timestamp_updated#30, voted_up#31, votes_up#32, votes_funny#33, weighted_vote_score#34, comment_count#35, steam_purchase#36, received_for_free#37, written_during_early_access#38]\n                        +- Project [recommendationid#17, appid#18, game#19, author_steamid#20, author_num_games_owned#627, cast(author_num_reviews#519 as int) AS author_num_reviews#650, author_playtime_forever#542, author_playtime_last_two_weeks#24, author_playtime_at_review#25, author_last_played#26, language#27, review#28, timestamp_created#29, timestamp_updated#30, voted_up#31, votes_up#32, votes_funny#33, weighted_vote_score#34, comment_count#35, steam_purchase#36, received_for_free#37, written_during_early_access#38]\n                           +- Project [recommendationid#17, appid#18, game#19, author_steamid#20, cast(author_num_games_owned#496 as int) AS author_num_games_owned#627, author_num_reviews#519, author_playtime_forever#542, author_playtime_last_two_weeks#24, author_playtime_at_review#25, author_last_played#26, language#27, review#28, timestamp_created#29, timestamp_updated#30, voted_up#31, votes_up#32, votes_funny#33, weighted_vote_score#34, comment_count#35, steam_purchase#36, received_for_free#37, written_during_early_access#38]\n                              +- Project [recommendationid#17, appid#18, game#19, author_steamid#20, author_num_games_owned#496, author_num_reviews#519, cast(author_playtime_forever#23 as int) AS author_playtime_forever#542, author_playtime_last_two_weeks#24, author_playtime_at_review#25, author_last_played#26, language#27, review#28, timestamp_created#29, timestamp_updated#30, voted_up#31, votes_up#32, votes_funny#33, weighted_vote_score#34, comment_count#35, steam_purchase#36, received_for_free#37, written_during_early_access#38]\n                                 +- Project [recommendationid#17, appid#18, game#19, author_steamid#20, author_num_games_owned#496, cast(author_num_reviews#411 as int) AS author_num_reviews#519, author_playtime_forever#23, author_playtime_last_two_weeks#24, author_playtime_at_review#25, author_last_played#26, language#27, review#28, timestamp_created#29, timestamp_updated#30, voted_up#31, votes_up#32, votes_funny#33, weighted_vote_score#34, comment_count#35, steam_purchase#36, received_for_free#37, written_during_early_access#38]\n                                    +- Project [recommendationid#17, appid#18, game#19, author_steamid#20, cast(author_num_games_owned#388 as int) AS author_num_games_owned#496, author_num_reviews#411, author_playtime_forever#23, author_playtime_last_two_weeks#24, author_playtime_at_review#25, author_last_played#26, language#27, review#28, timestamp_created#29, timestamp_updated#30, voted_up#31, votes_up#32, votes_funny#33, weighted_vote_score#34, comment_count#35, steam_purchase#36, received_for_free#37, written_during_early_access#38]\n                                       +- Project [recommendationid#17, appid#18, game#19, author_steamid#20, author_num_games_owned#388, cast(author_num_reviews#365 as int) AS author_num_reviews#411, author_playtime_forever#23, author_playtime_last_two_weeks#24, author_playtime_at_review#25, author_last_played#26, language#27, review#28, timestamp_created#29, timestamp_updated#30, voted_up#31, votes_up#32, votes_funny#33, weighted_vote_score#34, comment_count#35, steam_purchase#36, received_for_free#37, written_during_early_access#38]\n                                          +- Project [recommendationid#17, appid#18, game#19, author_steamid#20, cast(author_num_games_owned#21 as int) AS author_num_games_owned#388, author_num_reviews#365, author_playtime_forever#23, author_playtime_last_two_weeks#24, author_playtime_at_review#25, author_last_played#26, language#27, review#28, timestamp_created#29, timestamp_updated#30, voted_up#31, votes_up#32, votes_funny#33, weighted_vote_score#34, comment_count#35, steam_purchase#36, received_for_free#37, written_during_early_access#38]\n                                             +- Project [recommendationid#17, appid#18, game#19, author_steamid#20, author_num_games_owned#21, cast(author_num_reviews#342 as int) AS author_num_reviews#365, author_playtime_forever#23, author_playtime_last_two_weeks#24, author_playtime_at_review#25, author_last_played#26, language#27, review#28, timestamp_created#29, timestamp_updated#30, voted_up#31, votes_up#32, votes_funny#33, weighted_vote_score#34, comment_count#35, steam_purchase#36, received_for_free#37, written_during_early_access#38]\n                                                +- Project [recommendationid#17, appid#18, game#19, author_steamid#20, author_num_games_owned#21, cast(author_num_reviews#22 as int) AS author_num_reviews#342, author_playtime_forever#23, author_playtime_last_two_weeks#24, author_playtime_at_review#25, author_last_played#26, language#27, review#28, timestamp_created#29, timestamp_updated#30, voted_up#31, votes_up#32, votes_funny#33, weighted_vote_score#34, comment_count#35, steam_purchase#36, received_for_free#37, written_during_early_access#38]\n                                                   +- Deduplicate [recommendationid#17]\n                                                      +- Filter atleastnnonnulls(4, recommendationid#17, appid#18, author_steamid#20, review#28)\n                                                         +- Filter (language#27 = english)\n                                                            +- Project [recommendationid#17, appid#18, game#19, author_steamid#20, author_num_games_owned#21, author_num_reviews#22, author_playtime_forever#23, author_playtime_last_two_weeks#24, author_playtime_at_review#25, author_last_played#26, language#27, review#28, timestamp_created#29, timestamp_updated#30, voted_up#31, votes_up#32, votes_funny#33, weighted_vote_score#34, comment_count#35, steam_purchase#36, received_for_free#37, written_during_early_access#38]\n                                                               +- Relation [recommendationid#17,appid#18,game#19,author_steamid#20,author_num_games_owned#21,author_num_reviews#22,author_playtime_forever#23,author_playtime_last_two_weeks#24,author_playtime_at_review#25,author_last_played#26,language#27,review#28,timestamp_created#29,timestamp_updated#30,voted_up#31,votes_up#32,votes_funny#33,weighted_vote_score#34,comment_count#35,steam_purchase#36,received_for_free#37,written_during_early_access#38,hidden_in_steam_china#39,steam_china_location#40] csv\n",
     "output_type": "error",
     "traceback": [
      "\u001b[0;31m---------------------------------------------------------------------------\u001b[0m",
      "\u001b[0;31mAnalysisException\u001b[0m                         Traceback (most recent call last)",
      "Cell \u001b[0;32mIn[21], line 1\u001b[0m\n\u001b[0;32m----> 1\u001b[0m reviews_df_processed \u001b[38;5;241m=\u001b[39m \u001b[43mreviews_df_processed\u001b[49m\u001b[38;5;241;43m.\u001b[39;49m\u001b[43mwithColumn\u001b[49m\u001b[43m(\u001b[49m\u001b[38;5;124;43m\"\u001b[39;49m\u001b[38;5;124;43mauthor_last_played\u001b[39;49m\u001b[38;5;124;43m\"\u001b[39;49m\u001b[43m,\u001b[49m\u001b[43m \u001b[49m\u001b[43mf\u001b[49m\u001b[38;5;241;43m.\u001b[39;49m\u001b[43mfrom_unixtime\u001b[49m\u001b[43m(\u001b[49m\u001b[43mf\u001b[49m\u001b[38;5;241;43m.\u001b[39;49m\u001b[43mcol\u001b[49m\u001b[43m(\u001b[49m\u001b[38;5;124;43m\"\u001b[39;49m\u001b[38;5;124;43mauthor_last_played\u001b[39;49m\u001b[38;5;124;43m\"\u001b[39;49m\u001b[43m)\u001b[49m\u001b[43m)\u001b[49m\u001b[38;5;241;43m.\u001b[39;49m\u001b[43mcast\u001b[49m\u001b[43m(\u001b[49m\u001b[38;5;124;43m\"\u001b[39;49m\u001b[38;5;124;43mtimestamp\u001b[39;49m\u001b[38;5;124;43m\"\u001b[39;49m\u001b[43m)\u001b[49m\u001b[43m)\u001b[49m\n\u001b[1;32m      2\u001b[0m reviews_df_processed\u001b[38;5;241m.\u001b[39mselect(\u001b[38;5;124m\"\u001b[39m\u001b[38;5;124mauthor_last_played\u001b[39m\u001b[38;5;124m\"\u001b[39m)\u001b[38;5;241m.\u001b[39mshow(\u001b[38;5;241m5\u001b[39m)\n\u001b[1;32m      3\u001b[0m reviews_df_processed\u001b[38;5;241m.\u001b[39mprintSchema()\n",
      "File \u001b[0;32m/usr/local/spark/python/pyspark/sql/dataframe.py:5170\u001b[0m, in \u001b[0;36mDataFrame.withColumn\u001b[0;34m(self, colName, col)\u001b[0m\n\u001b[1;32m   5165\u001b[0m \u001b[38;5;28;01mif\u001b[39;00m \u001b[38;5;129;01mnot\u001b[39;00m \u001b[38;5;28misinstance\u001b[39m(col, Column):\n\u001b[1;32m   5166\u001b[0m     \u001b[38;5;28;01mraise\u001b[39;00m PySparkTypeError(\n\u001b[1;32m   5167\u001b[0m         error_class\u001b[38;5;241m=\u001b[39m\u001b[38;5;124m\"\u001b[39m\u001b[38;5;124mNOT_COLUMN\u001b[39m\u001b[38;5;124m\"\u001b[39m,\n\u001b[1;32m   5168\u001b[0m         message_parameters\u001b[38;5;241m=\u001b[39m{\u001b[38;5;124m\"\u001b[39m\u001b[38;5;124marg_name\u001b[39m\u001b[38;5;124m\"\u001b[39m: \u001b[38;5;124m\"\u001b[39m\u001b[38;5;124mcol\u001b[39m\u001b[38;5;124m\"\u001b[39m, \u001b[38;5;124m\"\u001b[39m\u001b[38;5;124marg_type\u001b[39m\u001b[38;5;124m\"\u001b[39m: \u001b[38;5;28mtype\u001b[39m(col)\u001b[38;5;241m.\u001b[39m\u001b[38;5;18m__name__\u001b[39m},\n\u001b[1;32m   5169\u001b[0m     )\n\u001b[0;32m-> 5170\u001b[0m \u001b[38;5;28;01mreturn\u001b[39;00m DataFrame(\u001b[38;5;28;43mself\u001b[39;49m\u001b[38;5;241;43m.\u001b[39;49m\u001b[43m_jdf\u001b[49m\u001b[38;5;241;43m.\u001b[39;49m\u001b[43mwithColumn\u001b[49m\u001b[43m(\u001b[49m\u001b[43mcolName\u001b[49m\u001b[43m,\u001b[49m\u001b[43m \u001b[49m\u001b[43mcol\u001b[49m\u001b[38;5;241;43m.\u001b[39;49m\u001b[43m_jc\u001b[49m\u001b[43m)\u001b[49m, \u001b[38;5;28mself\u001b[39m\u001b[38;5;241m.\u001b[39msparkSession)\n",
      "File \u001b[0;32m/usr/local/spark/python/lib/py4j-0.10.9.7-src.zip/py4j/java_gateway.py:1322\u001b[0m, in \u001b[0;36mJavaMember.__call__\u001b[0;34m(self, *args)\u001b[0m\n\u001b[1;32m   1316\u001b[0m command \u001b[38;5;241m=\u001b[39m proto\u001b[38;5;241m.\u001b[39mCALL_COMMAND_NAME \u001b[38;5;241m+\u001b[39m\\\n\u001b[1;32m   1317\u001b[0m     \u001b[38;5;28mself\u001b[39m\u001b[38;5;241m.\u001b[39mcommand_header \u001b[38;5;241m+\u001b[39m\\\n\u001b[1;32m   1318\u001b[0m     args_command \u001b[38;5;241m+\u001b[39m\\\n\u001b[1;32m   1319\u001b[0m     proto\u001b[38;5;241m.\u001b[39mEND_COMMAND_PART\n\u001b[1;32m   1321\u001b[0m answer \u001b[38;5;241m=\u001b[39m \u001b[38;5;28mself\u001b[39m\u001b[38;5;241m.\u001b[39mgateway_client\u001b[38;5;241m.\u001b[39msend_command(command)\n\u001b[0;32m-> 1322\u001b[0m return_value \u001b[38;5;241m=\u001b[39m \u001b[43mget_return_value\u001b[49m\u001b[43m(\u001b[49m\n\u001b[1;32m   1323\u001b[0m \u001b[43m    \u001b[49m\u001b[43manswer\u001b[49m\u001b[43m,\u001b[49m\u001b[43m \u001b[49m\u001b[38;5;28;43mself\u001b[39;49m\u001b[38;5;241;43m.\u001b[39;49m\u001b[43mgateway_client\u001b[49m\u001b[43m,\u001b[49m\u001b[43m \u001b[49m\u001b[38;5;28;43mself\u001b[39;49m\u001b[38;5;241;43m.\u001b[39;49m\u001b[43mtarget_id\u001b[49m\u001b[43m,\u001b[49m\u001b[43m \u001b[49m\u001b[38;5;28;43mself\u001b[39;49m\u001b[38;5;241;43m.\u001b[39;49m\u001b[43mname\u001b[49m\u001b[43m)\u001b[49m\n\u001b[1;32m   1325\u001b[0m \u001b[38;5;28;01mfor\u001b[39;00m temp_arg \u001b[38;5;129;01min\u001b[39;00m temp_args:\n\u001b[1;32m   1326\u001b[0m     \u001b[38;5;28;01mif\u001b[39;00m \u001b[38;5;28mhasattr\u001b[39m(temp_arg, \u001b[38;5;124m\"\u001b[39m\u001b[38;5;124m_detach\u001b[39m\u001b[38;5;124m\"\u001b[39m):\n",
      "File \u001b[0;32m/usr/local/spark/python/pyspark/errors/exceptions/captured.py:185\u001b[0m, in \u001b[0;36mcapture_sql_exception.<locals>.deco\u001b[0;34m(*a, **kw)\u001b[0m\n\u001b[1;32m    181\u001b[0m converted \u001b[38;5;241m=\u001b[39m convert_exception(e\u001b[38;5;241m.\u001b[39mjava_exception)\n\u001b[1;32m    182\u001b[0m \u001b[38;5;28;01mif\u001b[39;00m \u001b[38;5;129;01mnot\u001b[39;00m \u001b[38;5;28misinstance\u001b[39m(converted, UnknownException):\n\u001b[1;32m    183\u001b[0m     \u001b[38;5;66;03m# Hide where the exception came from that shows a non-Pythonic\u001b[39;00m\n\u001b[1;32m    184\u001b[0m     \u001b[38;5;66;03m# JVM exception message.\u001b[39;00m\n\u001b[0;32m--> 185\u001b[0m     \u001b[38;5;28;01mraise\u001b[39;00m converted \u001b[38;5;28;01mfrom\u001b[39;00m \u001b[38;5;28;01mNone\u001b[39;00m\n\u001b[1;32m    186\u001b[0m \u001b[38;5;28;01melse\u001b[39;00m:\n\u001b[1;32m    187\u001b[0m     \u001b[38;5;28;01mraise\u001b[39;00m\n",
      "\u001b[0;31mAnalysisException\u001b[0m: [DATATYPE_MISMATCH.UNEXPECTED_INPUT_TYPE] Cannot resolve \"from_unixtime(author_last_played, yyyy-MM-dd HH:mm:ss)\" due to data type mismatch: Parameter 1 requires the \"BIGINT\" type, however \"author_last_played\" has the type \"TIMESTAMP\".;\n'Project [recommendationid#17, appid#18, game#19, author_steamid#20, author_num_games_owned#781, author_num_reviews#804, author_playtime_forever#827, author_playtime_last_two_weeks#850, author_playtime_at_review#873, cast(from_unixtime(author_last_played#958, yyyy-MM-dd HH:mm:ss, Some(Etc/UTC)) as timestamp) AS author_last_played#981, language#27, review#28, timestamp_created#29, timestamp_updated#30, voted_up#31, votes_up#32, votes_funny#33, weighted_vote_score#34, comment_count#35, steam_purchase#36, received_for_free#37, written_during_early_access#38]\n+- Project [recommendationid#17, appid#18, game#19, author_steamid#20, author_num_games_owned#781, author_num_reviews#804, author_playtime_forever#827, author_playtime_last_two_weeks#850, author_playtime_at_review#873, cast(from_unixtime(cast(author_last_played#26 as bigint), yyyy-MM-dd HH:mm:ss, Some(Etc/UTC)) as timestamp) AS author_last_played#958, language#27, review#28, timestamp_created#29, timestamp_updated#30, voted_up#31, votes_up#32, votes_funny#33, weighted_vote_score#34, comment_count#35, steam_purchase#36, received_for_free#37, written_during_early_access#38]\n   +- Project [recommendationid#17, appid#18, game#19, author_steamid#20, author_num_games_owned#781, author_num_reviews#804, author_playtime_forever#827, author_playtime_last_two_weeks#850, cast(author_playtime_at_review#25 as int) AS author_playtime_at_review#873, author_last_played#26, language#27, review#28, timestamp_created#29, timestamp_updated#30, voted_up#31, votes_up#32, votes_funny#33, weighted_vote_score#34, comment_count#35, steam_purchase#36, received_for_free#37, written_during_early_access#38]\n      +- Project [recommendationid#17, appid#18, game#19, author_steamid#20, author_num_games_owned#781, author_num_reviews#804, author_playtime_forever#827, cast(author_playtime_last_two_weeks#696 as int) AS author_playtime_last_two_weeks#850, author_playtime_at_review#25, author_last_played#26, language#27, review#28, timestamp_created#29, timestamp_updated#30, voted_up#31, votes_up#32, votes_funny#33, weighted_vote_score#34, comment_count#35, steam_purchase#36, received_for_free#37, written_during_early_access#38]\n         +- Project [recommendationid#17, appid#18, game#19, author_steamid#20, author_num_games_owned#781, author_num_reviews#804, cast(author_playtime_forever#673 as int) AS author_playtime_forever#827, author_playtime_last_two_weeks#696, author_playtime_at_review#25, author_last_played#26, language#27, review#28, timestamp_created#29, timestamp_updated#30, voted_up#31, votes_up#32, votes_funny#33, weighted_vote_score#34, comment_count#35, steam_purchase#36, received_for_free#37, written_during_early_access#38]\n            +- Project [recommendationid#17, appid#18, game#19, author_steamid#20, author_num_games_owned#781, cast(author_num_reviews#650 as int) AS author_num_reviews#804, author_playtime_forever#673, author_playtime_last_two_weeks#696, author_playtime_at_review#25, author_last_played#26, language#27, review#28, timestamp_created#29, timestamp_updated#30, voted_up#31, votes_up#32, votes_funny#33, weighted_vote_score#34, comment_count#35, steam_purchase#36, received_for_free#37, written_during_early_access#38]\n               +- Project [recommendationid#17, appid#18, game#19, author_steamid#20, cast(author_num_games_owned#627 as int) AS author_num_games_owned#781, author_num_reviews#650, author_playtime_forever#673, author_playtime_last_two_weeks#696, author_playtime_at_review#25, author_last_played#26, language#27, review#28, timestamp_created#29, timestamp_updated#30, voted_up#31, votes_up#32, votes_funny#33, weighted_vote_score#34, comment_count#35, steam_purchase#36, received_for_free#37, written_during_early_access#38]\n                  +- Project [recommendationid#17, appid#18, game#19, author_steamid#20, author_num_games_owned#627, author_num_reviews#650, author_playtime_forever#673, cast(author_playtime_last_two_weeks#24 as int) AS author_playtime_last_two_weeks#696, author_playtime_at_review#25, author_last_played#26, language#27, review#28, timestamp_created#29, timestamp_updated#30, voted_up#31, votes_up#32, votes_funny#33, weighted_vote_score#34, comment_count#35, steam_purchase#36, received_for_free#37, written_during_early_access#38]\n                     +- Project [recommendationid#17, appid#18, game#19, author_steamid#20, author_num_games_owned#627, author_num_reviews#650, cast(author_playtime_forever#542 as int) AS author_playtime_forever#673, author_playtime_last_two_weeks#24, author_playtime_at_review#25, author_last_played#26, language#27, review#28, timestamp_created#29, timestamp_updated#30, voted_up#31, votes_up#32, votes_funny#33, weighted_vote_score#34, comment_count#35, steam_purchase#36, received_for_free#37, written_during_early_access#38]\n                        +- Project [recommendationid#17, appid#18, game#19, author_steamid#20, author_num_games_owned#627, cast(author_num_reviews#519 as int) AS author_num_reviews#650, author_playtime_forever#542, author_playtime_last_two_weeks#24, author_playtime_at_review#25, author_last_played#26, language#27, review#28, timestamp_created#29, timestamp_updated#30, voted_up#31, votes_up#32, votes_funny#33, weighted_vote_score#34, comment_count#35, steam_purchase#36, received_for_free#37, written_during_early_access#38]\n                           +- Project [recommendationid#17, appid#18, game#19, author_steamid#20, cast(author_num_games_owned#496 as int) AS author_num_games_owned#627, author_num_reviews#519, author_playtime_forever#542, author_playtime_last_two_weeks#24, author_playtime_at_review#25, author_last_played#26, language#27, review#28, timestamp_created#29, timestamp_updated#30, voted_up#31, votes_up#32, votes_funny#33, weighted_vote_score#34, comment_count#35, steam_purchase#36, received_for_free#37, written_during_early_access#38]\n                              +- Project [recommendationid#17, appid#18, game#19, author_steamid#20, author_num_games_owned#496, author_num_reviews#519, cast(author_playtime_forever#23 as int) AS author_playtime_forever#542, author_playtime_last_two_weeks#24, author_playtime_at_review#25, author_last_played#26, language#27, review#28, timestamp_created#29, timestamp_updated#30, voted_up#31, votes_up#32, votes_funny#33, weighted_vote_score#34, comment_count#35, steam_purchase#36, received_for_free#37, written_during_early_access#38]\n                                 +- Project [recommendationid#17, appid#18, game#19, author_steamid#20, author_num_games_owned#496, cast(author_num_reviews#411 as int) AS author_num_reviews#519, author_playtime_forever#23, author_playtime_last_two_weeks#24, author_playtime_at_review#25, author_last_played#26, language#27, review#28, timestamp_created#29, timestamp_updated#30, voted_up#31, votes_up#32, votes_funny#33, weighted_vote_score#34, comment_count#35, steam_purchase#36, received_for_free#37, written_during_early_access#38]\n                                    +- Project [recommendationid#17, appid#18, game#19, author_steamid#20, cast(author_num_games_owned#388 as int) AS author_num_games_owned#496, author_num_reviews#411, author_playtime_forever#23, author_playtime_last_two_weeks#24, author_playtime_at_review#25, author_last_played#26, language#27, review#28, timestamp_created#29, timestamp_updated#30, voted_up#31, votes_up#32, votes_funny#33, weighted_vote_score#34, comment_count#35, steam_purchase#36, received_for_free#37, written_during_early_access#38]\n                                       +- Project [recommendationid#17, appid#18, game#19, author_steamid#20, author_num_games_owned#388, cast(author_num_reviews#365 as int) AS author_num_reviews#411, author_playtime_forever#23, author_playtime_last_two_weeks#24, author_playtime_at_review#25, author_last_played#26, language#27, review#28, timestamp_created#29, timestamp_updated#30, voted_up#31, votes_up#32, votes_funny#33, weighted_vote_score#34, comment_count#35, steam_purchase#36, received_for_free#37, written_during_early_access#38]\n                                          +- Project [recommendationid#17, appid#18, game#19, author_steamid#20, cast(author_num_games_owned#21 as int) AS author_num_games_owned#388, author_num_reviews#365, author_playtime_forever#23, author_playtime_last_two_weeks#24, author_playtime_at_review#25, author_last_played#26, language#27, review#28, timestamp_created#29, timestamp_updated#30, voted_up#31, votes_up#32, votes_funny#33, weighted_vote_score#34, comment_count#35, steam_purchase#36, received_for_free#37, written_during_early_access#38]\n                                             +- Project [recommendationid#17, appid#18, game#19, author_steamid#20, author_num_games_owned#21, cast(author_num_reviews#342 as int) AS author_num_reviews#365, author_playtime_forever#23, author_playtime_last_two_weeks#24, author_playtime_at_review#25, author_last_played#26, language#27, review#28, timestamp_created#29, timestamp_updated#30, voted_up#31, votes_up#32, votes_funny#33, weighted_vote_score#34, comment_count#35, steam_purchase#36, received_for_free#37, written_during_early_access#38]\n                                                +- Project [recommendationid#17, appid#18, game#19, author_steamid#20, author_num_games_owned#21, cast(author_num_reviews#22 as int) AS author_num_reviews#342, author_playtime_forever#23, author_playtime_last_two_weeks#24, author_playtime_at_review#25, author_last_played#26, language#27, review#28, timestamp_created#29, timestamp_updated#30, voted_up#31, votes_up#32, votes_funny#33, weighted_vote_score#34, comment_count#35, steam_purchase#36, received_for_free#37, written_during_early_access#38]\n                                                   +- Deduplicate [recommendationid#17]\n                                                      +- Filter atleastnnonnulls(4, recommendationid#17, appid#18, author_steamid#20, review#28)\n                                                         +- Filter (language#27 = english)\n                                                            +- Project [recommendationid#17, appid#18, game#19, author_steamid#20, author_num_games_owned#21, author_num_reviews#22, author_playtime_forever#23, author_playtime_last_two_weeks#24, author_playtime_at_review#25, author_last_played#26, language#27, review#28, timestamp_created#29, timestamp_updated#30, voted_up#31, votes_up#32, votes_funny#33, weighted_vote_score#34, comment_count#35, steam_purchase#36, received_for_free#37, written_during_early_access#38]\n                                                               +- Relation [recommendationid#17,appid#18,game#19,author_steamid#20,author_num_games_owned#21,author_num_reviews#22,author_playtime_forever#23,author_playtime_last_two_weeks#24,author_playtime_at_review#25,author_last_played#26,language#27,review#28,timestamp_created#29,timestamp_updated#30,voted_up#31,votes_up#32,votes_funny#33,weighted_vote_score#34,comment_count#35,steam_purchase#36,received_for_free#37,written_during_early_access#38,hidden_in_steam_china#39,steam_china_location#40] csv\n"
     ]
    }
   ],
   "source": [
    "reviews_df_processed = reviews_df_processed.withColumn(\"author_last_played\", f.from_unixtime(f.col(\"author_last_played\")).cast(\"timestamp\"))\n",
    "reviews_df_processed.select(\"author_last_played\").show(5)\n",
    "reviews_df_processed.printSchema()"
   ]
  },
  {
   "cell_type": "code",
   "execution_count": null,
   "id": "2050565b-e9ba-4cc6-9390-2198743ea07e",
   "metadata": {},
   "outputs": [],
   "source": [
    "# Loads games.csv file into a spark dataframe\n",
    "games_df = sc.read.csv(\"/home/joneel/joneel/Group_Project/raw_data/games.csv\", header=True, inferSchema=True)"
   ]
  },
  {
   "cell_type": "code",
   "execution_count": null,
   "id": "f8167541-4de9-4e50-bf4f-d67b1c204cb5",
   "metadata": {},
   "outputs": [],
   "source": [
    "# Displays games_df schema and counts total # of games\n",
    "games_df.printSchema()\n",
    "print(f\"Number of games: {games_df.count()}\")"
   ]
  },
  {
   "cell_type": "code",
   "execution_count": null,
   "id": "2e550a5a-cbfa-434d-9fba-ea53968d01c5",
   "metadata": {},
   "outputs": [],
   "source": [
    "# Removes columns not relevant for this analysis\n",
    "games_df_processed = games_df.drop(\"reviews\", \"header_image\", \"website\", \"support_url\", \"support_email\", \"full_audio_languages\", \"screenshots\", \"movies\")\n",
    "games_df_processed.printSchema()"
   ]
  },
  {
   "cell_type": "code",
   "execution_count": null,
   "id": "2a887192-ba4e-4001-8e0c-c196eb3d8f02",
   "metadata": {},
   "outputs": [],
   "source": [
    "# Drops rows that contain null values or duplicates in the appid column\n",
    "print(f\"Number of games: {games_df_processed.count()}\")\n",
    "games_df_processed = games_df_processed.na.drop(subset=[\"appid\"])\n",
    "print(f\"Number of games: {games_df_processed.count()}\")\n",
    "games_df_processed = games_df_processed.dropDuplicates(subset=[\"appid\"])\n",
    "print(f\"Number of games: {games_df_processed.count()}\")"
   ]
  },
  {
   "cell_type": "code",
   "execution_count": null,
   "id": "00ba4ffb-d393-4a39-a348-5b351c5cd747",
   "metadata": {},
   "outputs": [],
   "source": [
    "# Save processed dataframes as parquet files\n",
    "reviews_df_processed.write.mode(\"overwrite\").parquet(\"home/joneel/joneel/Group_Project/reviews_processed\")\n",
    "# games_df_processed.write.mode(\"overwrite\").parquet(\"home/joneel/joneel/Group_Project/games_processed\")"
   ]
  },
  {
   "cell_type": "code",
   "execution_count": null,
   "id": "994fcbc4-fcc7-4063-8338-94d0da3b1812",
   "metadata": {},
   "outputs": [],
   "source": [
    "\"Tokenize reviews, see # of reviews per author, break down tags and genres\"\n",
    "\"Make some plots to see data distributions (# of reviews, reviews per author, dates, best and worst reviewed games?)\""
   ]
  }
 ],
 "metadata": {
  "kernelspec": {
   "display_name": "Python 3 (ipykernel)",
   "language": "python",
   "name": "python3"
  },
  "language_info": {
   "codemirror_mode": {
    "name": "ipython",
    "version": 3
   },
   "file_extension": ".py",
   "mimetype": "text/x-python",
   "name": "python",
   "nbconvert_exporter": "python",
   "pygments_lexer": "ipython3",
   "version": "3.11.6"
  }
 },
 "nbformat": 4,
 "nbformat_minor": 5
}
