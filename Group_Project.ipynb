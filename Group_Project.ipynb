{
 "cells": [
  {
   "cell_type": "markdown",
   "id": "6ebe255e-3a4f-44af-9ef3-7960e2a4a879",
   "metadata": {},
   "source": [
    "# Part 0: Raw Data & Environment Set-up"
   ]
  },
  {
   "cell_type": "markdown",
   "id": "87ce0912-dc4a-4d9d-8dc4-588c9d756224",
   "metadata": {
    "jp-MarkdownHeadingCollapsed": true
   },
   "source": [
    "## Raw Data"
   ]
  },
  {
   "cell_type": "markdown",
   "id": "1df7e34c-3466-4d1a-b2b3-bfde676872b6",
   "metadata": {},
   "source": [
    "The following code loads in and unzips the raw data. Raw data has been downloaded from Kaggle placed into public Google Cloud Storage for ease of access."
   ]
  },
  {
   "cell_type": "code",
   "execution_count": null,
   "id": "a2bd2891-a891-416f-b976-1e7fce14d3d2",
   "metadata": {},
   "outputs": [],
   "source": [
    "# Loads in steam-reviews.zip (game reviews)\n",
    "url1 = (\"https://storage.googleapis.com/dsc232r-group-project-data/steam-reviews.zip\")\n",
    "!wget \"{url1}\""
   ]
  },
  {
   "cell_type": "code",
   "execution_count": null,
   "id": "27f2ae2d-bac0-4ae2-b547-14ab39dba3de",
   "metadata": {},
   "outputs": [],
   "source": [
    "# Extracts steam-reviews.zip into specified directory and deletes .zip file\n",
    "!unzip steam-reviews.zip -d /home/joneel/joneel/Group_Project/raw_data/steam-reviews && rm steam-reviews.zip"
   ]
  },
  {
   "cell_type": "code",
   "execution_count": null,
   "id": "b7f86872-6b6a-4804-a9b0-8a0167fbd5a2",
   "metadata": {},
   "outputs": [],
   "source": [
    "# Loads in games.csv (games metadata)\n",
    "url2 = (\"https://storage.googleapis.com/dsc232r-group-project-data/games.csv\")\n",
    "!wget \"{url2}\""
   ]
  },
  {
   "cell_type": "code",
   "execution_count": null,
   "id": "b88c89a1-1d06-4337-9bec-dc1239251f2e",
   "metadata": {},
   "outputs": [],
   "source": [
    "# Moves games.csv into specified directory\n",
    "!mv games.csv /home/joneel/joneel/Group_Project/raw_data"
   ]
  },
  {
   "cell_type": "markdown",
   "id": "c8cf6eb9-2275-432f-a249-5bbf345329df",
   "metadata": {},
   "source": [
    "## Environment Set-up"
   ]
  },
  {
   "cell_type": "markdown",
   "id": "1bed7c62-dcc8-431b-9972-cf754dc6f002",
   "metadata": {},
   "source": [
    "Set-up on the cluster included 30 cores with 60GB memory in order to load and process this dataset (total ~45GB)."
   ]
  },
  {
   "cell_type": "code",
   "execution_count": 1,
   "id": "547c0e23-fd38-4653-af38-87ee9a03e297",
   "metadata": {},
   "outputs": [],
   "source": [
    "# Import required libraries\n",
    "import os, pickle, glob\n",
    "from pyspark.sql import SparkSession\n",
    "from pyspark.sql import functions as f\n",
    "from pyspark import StorageLevel"
   ]
  },
  {
   "cell_type": "code",
   "execution_count": 3,
   "id": "71f3d832-d431-4a27-8196-bc321af85cfd",
   "metadata": {},
   "outputs": [],
   "source": [
    "# sc.stop() # To stop a currently running SparkSession, if needed for troubleshooting/development"
   ]
  },
  {
   "cell_type": "code",
   "execution_count": 4,
   "id": "67f28e6b-6aeb-499d-ab0c-59965f288ccd",
   "metadata": {},
   "outputs": [],
   "source": [
    "# Establishes Spark Session\n",
    "sc = SparkSession.builder \\\n",
    "    .config(\"spark.driver.memory\", \"8g\") \\\n",
    "\t.config(\"spark.executor.memory\", \"8g\") \\\n",
    "    .config(\"spark.executor.instances\", \"10\") \\\n",
    "    .config(\"spark.executor.cores\", \"4\") \\\n",
    "\t.appName(\"MySparkJob\") \\\n",
    "\t.getOrCreate()"
   ]
  },
  {
   "cell_type": "code",
   "execution_count": 5,
   "id": "b39166eb-9951-4a97-a532-4a703c4b0cde",
   "metadata": {},
   "outputs": [],
   "source": [
    "# Loads all_reviews.csv file into a spark dataframe\n",
    "reviews_df = sc.read.csv(\"/home/joneel/joneel/Group_Project/raw_data/steam-reviews/all_reviews/all_reviews.csv\", header=True, inferSchema=True)"
   ]
  },
  {
   "cell_type": "code",
   "execution_count": 6,
   "id": "7d14bdec-707d-4266-91bb-b05e9066797c",
   "metadata": {},
   "outputs": [
    {
     "name": "stdout",
     "output_type": "stream",
     "text": [
      "root\n",
      " |-- recommendationid: string (nullable = true)\n",
      " |-- appid: string (nullable = true)\n",
      " |-- game: string (nullable = true)\n",
      " |-- author_steamid: string (nullable = true)\n",
      " |-- author_num_games_owned: string (nullable = true)\n",
      " |-- author_num_reviews: string (nullable = true)\n",
      " |-- author_playtime_forever: string (nullable = true)\n",
      " |-- author_playtime_last_two_weeks: string (nullable = true)\n",
      " |-- author_playtime_at_review: string (nullable = true)\n",
      " |-- author_last_played: string (nullable = true)\n",
      " |-- language: string (nullable = true)\n",
      " |-- review: string (nullable = true)\n",
      " |-- timestamp_created: string (nullable = true)\n",
      " |-- timestamp_updated: string (nullable = true)\n",
      " |-- voted_up: string (nullable = true)\n",
      " |-- votes_up: string (nullable = true)\n",
      " |-- votes_funny: string (nullable = true)\n",
      " |-- weighted_vote_score: string (nullable = true)\n",
      " |-- comment_count: string (nullable = true)\n",
      " |-- steam_purchase: string (nullable = true)\n",
      " |-- received_for_free: string (nullable = true)\n",
      " |-- written_during_early_access: string (nullable = true)\n",
      " |-- hidden_in_steam_china: string (nullable = true)\n",
      " |-- steam_china_location: string (nullable = true)\n",
      "\n",
      "Number of reviews: 113885601\n"
     ]
    }
   ],
   "source": [
    "# Displays reviews_df schema and counts total # of reviews\n",
    "reviews_df.printSchema()\n",
    "print(f\"Number of reviews: {reviews_df.count()}\")"
   ]
  },
  {
   "cell_type": "code",
   "execution_count": 7,
   "id": "e5f0fbad-bd70-46ff-b9d0-27a004aa8671",
   "metadata": {},
   "outputs": [
    {
     "name": "stdout",
     "output_type": "stream",
     "text": [
      "root\n",
      " |-- recommendationid: string (nullable = true)\n",
      " |-- appid: string (nullable = true)\n",
      " |-- game: string (nullable = true)\n",
      " |-- author_steamid: string (nullable = true)\n",
      " |-- author_num_games_owned: string (nullable = true)\n",
      " |-- author_num_reviews: string (nullable = true)\n",
      " |-- author_playtime_forever: string (nullable = true)\n",
      " |-- author_playtime_last_two_weeks: string (nullable = true)\n",
      " |-- author_playtime_at_review: string (nullable = true)\n",
      " |-- author_last_played: string (nullable = true)\n",
      " |-- language: string (nullable = true)\n",
      " |-- review: string (nullable = true)\n",
      " |-- timestamp_created: string (nullable = true)\n",
      " |-- timestamp_updated: string (nullable = true)\n",
      " |-- votes_up: string (nullable = true)\n",
      " |-- votes_funny: string (nullable = true)\n",
      " |-- weighted_vote_score: string (nullable = true)\n",
      " |-- comment_count: string (nullable = true)\n",
      " |-- steam_purchase: string (nullable = true)\n",
      " |-- received_for_free: string (nullable = true)\n",
      " |-- written_during_early_access: string (nullable = true)\n",
      "\n"
     ]
    }
   ],
   "source": [
    "# Removes two columns related to Chinese gaming market & one column that was not well defined (not relevant for this analysis)\n",
    "reviews_df = reviews_df.drop(\"hidden_in_steam_china\", \"steam_china_location\", \"voted_up\")\n",
    "reviews_df.printSchema()"
   ]
  },
  {
   "cell_type": "code",
   "execution_count": 8,
   "id": "4fd8c8e2-a957-48b6-8826-e4f75704e48b",
   "metadata": {},
   "outputs": [
    {
     "name": "stdout",
     "output_type": "stream",
     "text": [
      "+--------+\n",
      "|language|\n",
      "+--------+\n",
      "| english|\n",
      "+--------+\n",
      "\n",
      "Number of reviews: 51544179\n"
     ]
    }
   ],
   "source": [
    "# Filters dataframe to include only reviews in English & counts new number of reviews\n",
    "reviews_df_processed = reviews_df.filter(reviews_df.language == 'english')\n",
    "reviews_df_processed.select(\"language\").distinct().show()\n",
    "print(f\"Number of reviews: {reviews_df_processed.count()}\")"
   ]
  },
  {
   "cell_type": "code",
   "execution_count": 9,
   "id": "a7ffb95e-5ab4-49c5-8675-dfd652f1a31a",
   "metadata": {},
   "outputs": [
    {
     "name": "stdout",
     "output_type": "stream",
     "text": [
      "Number of reviews: 51544179\n",
      "Number of reviews: 51351970\n"
     ]
    }
   ],
   "source": [
    "# Drops rows that contain null values in the id or reviews column & drop duplicate recommendation ids\n",
    "reviews_df_processed = reviews_df_processed.na.drop(subset=[\"recommendationid\", \"appid\", \"author_steamid\", \"review\"])\n",
    "print(f\"Number of reviews: {reviews_df_processed.count()}\")\n",
    "reviews_df_processed = reviews_df_processed.dropDuplicates(subset=[\"recommendationid\"])\n",
    "print(f\"Number of reviews: {reviews_df_processed.count()}\")"
   ]
  },
  {
   "cell_type": "code",
   "execution_count": 10,
   "id": "c1f71791-54f7-46e2-be21-05f88c3fa101",
   "metadata": {},
   "outputs": [
    {
     "name": "stdout",
     "output_type": "stream",
     "text": [
      "root\n",
      " |-- recommendationid: string (nullable = true)\n",
      " |-- appid: string (nullable = true)\n",
      " |-- game: string (nullable = true)\n",
      " |-- author_steamid: string (nullable = true)\n",
      " |-- author_num_games_owned: integer (nullable = true)\n",
      " |-- author_num_reviews: integer (nullable = true)\n",
      " |-- author_playtime_forever: integer (nullable = true)\n",
      " |-- author_playtime_last_two_weeks: integer (nullable = true)\n",
      " |-- author_playtime_at_review: integer (nullable = true)\n",
      " |-- author_last_played: timestamp (nullable = true)\n",
      " |-- language: string (nullable = true)\n",
      " |-- review: string (nullable = true)\n",
      " |-- timestamp_created: timestamp (nullable = true)\n",
      " |-- timestamp_updated: timestamp (nullable = true)\n",
      " |-- votes_up: integer (nullable = true)\n",
      " |-- votes_funny: integer (nullable = true)\n",
      " |-- weighted_vote_score: double (nullable = true)\n",
      " |-- comment_count: integer (nullable = true)\n",
      " |-- steam_purchase: integer (nullable = true)\n",
      " |-- received_for_free: integer (nullable = true)\n",
      " |-- written_during_early_access: integer (nullable = true)\n",
      "\n"
     ]
    }
   ],
   "source": [
    "# Cast columns to appropriate datatypes based on definitions on Kaggle\n",
    "reviews_df_processed = reviews_df_processed.withColumn(\"author_num_games_owned\", f.col(\"author_num_games_owned\").cast(\"integer\"))\n",
    "reviews_df_processed = reviews_df_processed.withColumn(\"author_num_reviews\", f.col(\"author_num_reviews\").cast(\"integer\"))\n",
    "reviews_df_processed = reviews_df_processed.withColumn(\"author_playtime_forever\", f.col(\"author_playtime_forever\").cast(\"integer\"))\n",
    "reviews_df_processed = reviews_df_processed.withColumn(\"author_playtime_last_two_weeks\", f.col(\"author_playtime_last_two_weeks\").cast(\"integer\"))\n",
    "reviews_df_processed = reviews_df_processed.withColumn(\"author_playtime_at_review\", f.col(\"author_playtime_at_review\").cast(\"integer\"))\n",
    "reviews_df_processed = reviews_df_processed.withColumn(\"author_last_played\", f.from_unixtime(f.col(\"author_last_played\")).cast(\"timestamp\"))\n",
    "reviews_df_processed = reviews_df_processed.withColumn(\"timestamp_created\", f.from_unixtime(f.col(\"timestamp_created\")).cast(\"timestamp\"))\n",
    "reviews_df_processed = reviews_df_processed.withColumn(\"timestamp_updated\", f.from_unixtime(f.col(\"timestamp_updated\")).cast(\"timestamp\"))\n",
    "reviews_df_processed = reviews_df_processed.withColumn(\"votes_up\", f.col(\"votes_up\").cast(\"integer\"))\n",
    "reviews_df_processed = reviews_df_processed.withColumn(\"votes_funny\", f.col(\"votes_funny\").cast(\"integer\"))\n",
    "reviews_df_processed = reviews_df_processed.withColumn(\"weighted_vote_score\", f.col(\"weighted_vote_score\").cast(\"double\"))\n",
    "reviews_df_processed = reviews_df_processed.withColumn(\"comment_count\", f.col(\"comment_count\").cast(\"integer\"))\n",
    "reviews_df_processed = reviews_df_processed.withColumn(\"steam_purchase\", f.col(\"steam_purchase\").cast(\"integer\"))\n",
    "reviews_df_processed = reviews_df_processed.withColumn(\"received_for_free\", f.col(\"received_for_free\").cast(\"integer\"))\n",
    "reviews_df_processed = reviews_df_processed.withColumn(\"written_during_early_access\", f.col(\"written_during_early_access\").cast(\"integer\"))\n",
    "reviews_df_processed.printSchema()"
   ]
  },
  {
   "cell_type": "code",
   "execution_count": 11,
   "id": "0ca5cea7-c7fe-4a55-9b21-dd1f95dc633a",
   "metadata": {},
   "outputs": [
    {
     "name": "stdout",
     "output_type": "stream",
     "text": [
      "+--------------+\n",
      "|steam_purchase|\n",
      "+--------------+\n",
      "|             0|\n",
      "|             1|\n",
      "|             1|\n",
      "|             0|\n",
      "|             1|\n",
      "+--------------+\n",
      "only showing top 5 rows\n",
      "\n",
      "2\n",
      "+-----------------+\n",
      "|received_for_free|\n",
      "+-----------------+\n",
      "|                0|\n",
      "|                0|\n",
      "|                0|\n",
      "|                0|\n",
      "|                0|\n",
      "+-----------------+\n",
      "only showing top 5 rows\n",
      "\n",
      "2\n",
      "+---------------------------+\n",
      "|written_during_early_access|\n",
      "+---------------------------+\n",
      "|                          0|\n",
      "|                          0|\n",
      "|                          0|\n",
      "|                          0|\n",
      "|                          0|\n",
      "+---------------------------+\n",
      "only showing top 5 rows\n",
      "\n",
      "2\n",
      "root\n",
      " |-- recommendationid: string (nullable = true)\n",
      " |-- appid: string (nullable = true)\n",
      " |-- game: string (nullable = true)\n",
      " |-- author_steamid: string (nullable = true)\n",
      " |-- author_num_games_owned: integer (nullable = true)\n",
      " |-- author_num_reviews: integer (nullable = true)\n",
      " |-- author_playtime_forever: integer (nullable = true)\n",
      " |-- author_playtime_last_two_weeks: integer (nullable = true)\n",
      " |-- author_playtime_at_review: integer (nullable = true)\n",
      " |-- author_last_played: timestamp (nullable = true)\n",
      " |-- language: string (nullable = true)\n",
      " |-- review: string (nullable = true)\n",
      " |-- timestamp_created: timestamp (nullable = true)\n",
      " |-- timestamp_updated: timestamp (nullable = true)\n",
      " |-- votes_up: integer (nullable = true)\n",
      " |-- votes_funny: integer (nullable = true)\n",
      " |-- weighted_vote_score: double (nullable = true)\n",
      " |-- comment_count: integer (nullable = true)\n",
      " |-- steam_purchase: boolean (nullable = true)\n",
      " |-- received_for_free: boolean (nullable = true)\n",
      " |-- written_during_early_access: boolean (nullable = true)\n",
      "\n",
      "Number of reviews: 50441085\n"
     ]
    }
   ],
   "source": [
    "# Checking columns that should be \"0\" or \"1\"\n",
    "reviews_df_processed = reviews_df_processed.filter((reviews_df_processed[\"steam_purchase\"] == 0) | (reviews_df_processed[\"steam_purchase\"] == 1))\n",
    "reviews_df_processed.select(\"steam_purchase\").show(5) # Should be only 0's or 1's\n",
    "print(reviews_df_processed.select(\"steam_purchase\").distinct().count()) # Should be \"2\"\n",
    "\n",
    "reviews_df_processed = reviews_df_processed.filter((reviews_df_processed[\"received_for_free\"] == 0) | (reviews_df_processed[\"received_for_free\"] == 1))\n",
    "reviews_df_processed.select(\"received_for_free\").show(5) # Should be only 0's or 1's\n",
    "print(reviews_df_processed.select(\"received_for_free\").distinct().count()) # Should be \"2\"\n",
    "\n",
    "reviews_df_processed = reviews_df_processed.filter((reviews_df_processed[\"written_during_early_access\"] == 0) | \n",
    "                                                   (reviews_df_processed[\"written_during_early_access\"] == 1))\n",
    "reviews_df_processed.select(\"written_during_early_access\").show(5) # Should be only 0's or 1's\n",
    "print(reviews_df_processed.select(\"written_during_early_access\").distinct().count()) # Should be \"2\"\n",
    "\n",
    "# Cast to boolean\n",
    "reviews_df_processed = reviews_df_processed.withColumn(\"steam_purchase\", f.col(\"steam_purchase\").cast(\"boolean\"))\n",
    "reviews_df_processed = reviews_df_processed.withColumn(\"received_for_free\", f.col(\"received_for_free\").cast(\"boolean\"))\n",
    "reviews_df_processed = reviews_df_processed.withColumn(\"written_during_early_access\", f.col(\"written_during_early_access\").cast(\"boolean\"))\n",
    "\n",
    "# Double check schema and print new review count\n",
    "reviews_df_processed.printSchema()\n",
    "print(f\"Number of reviews: {reviews_df_processed.count()}\")"
   ]
  },
  {
   "cell_type": "code",
   "execution_count": 23,
   "id": "589d54b4-eb4e-4ac4-ac8b-768161b4ea40",
   "metadata": {},
   "outputs": [
    {
     "name": "stdout",
     "output_type": "stream",
     "text": [
      "root\n",
      " |-- recommendationid: string (nullable = true)\n",
      " |-- appid: string (nullable = true)\n",
      " |-- game: string (nullable = true)\n",
      " |-- author_steamid: string (nullable = true)\n",
      " |-- author_num_games_owned: integer (nullable = true)\n",
      " |-- author_num_reviews: integer (nullable = true)\n",
      " |-- author_playtime_forever: integer (nullable = true)\n",
      " |-- author_playtime_last_two_weeks: integer (nullable = true)\n",
      " |-- author_playtime_at_review: integer (nullable = true)\n",
      " |-- author_last_played: timestamp (nullable = true)\n",
      " |-- language: string (nullable = true)\n",
      " |-- timestamp_created: timestamp (nullable = true)\n",
      " |-- timestamp_updated: timestamp (nullable = true)\n",
      " |-- votes_up: integer (nullable = true)\n",
      " |-- votes_funny: integer (nullable = true)\n",
      " |-- weighted_vote_score: double (nullable = true)\n",
      " |-- comment_count: integer (nullable = true)\n",
      " |-- steam_purchase: boolean (nullable = true)\n",
      " |-- received_for_free: boolean (nullable = true)\n",
      " |-- written_during_early_access: boolean (nullable = true)\n",
      "\n",
      "root\n",
      " |-- recommendationid: string (nullable = true)\n",
      " |-- appid: string (nullable = true)\n",
      " |-- review: string (nullable = true)\n",
      "\n"
     ]
    }
   ],
   "source": [
    "# Splits data into two dataframes, 1 with all the review metadata and 1 with only the recommendationid + appid + review\n",
    "reviews_df_processed_metadata = reviews_df_processed.drop(\"review\")\n",
    "reviews_df_processed_reviews = reviews_df_processed.select(\"recommendationid\", \"appid\", \"review\")\n",
    "reviews_df_processed_metadata.printSchema()\n",
    "reviews_df_processed_reviews.printSchema()"
   ]
  },
  {
   "cell_type": "code",
   "execution_count": 32,
   "id": "2050565b-e9ba-4cc6-9390-2198743ea07e",
   "metadata": {},
   "outputs": [],
   "source": [
    "# Loads games.csv file into a spark dataframe\n",
    "games_df = sc.read.csv(\"/home/joneel/joneel/Group_Project/raw_data/games.csv\", header=True, inferSchema=True)"
   ]
  },
  {
   "cell_type": "code",
   "execution_count": 33,
   "id": "f8167541-4de9-4e50-bf4f-d67b1c204cb5",
   "metadata": {},
   "outputs": [
    {
     "name": "stdout",
     "output_type": "stream",
     "text": [
      "root\n",
      " |-- appid: integer (nullable = true)\n",
      " |-- name: string (nullable = true)\n",
      " |-- release_date: string (nullable = true)\n",
      " |-- required_age: string (nullable = true)\n",
      " |-- price: string (nullable = true)\n",
      " |-- dlc_count: double (nullable = true)\n",
      " |-- detailed_description: string (nullable = true)\n",
      " |-- about_the_game: string (nullable = true)\n",
      " |-- short_description: string (nullable = true)\n",
      " |-- reviews: string (nullable = true)\n",
      " |-- header_image: string (nullable = true)\n",
      " |-- website: string (nullable = true)\n",
      " |-- support_url: string (nullable = true)\n",
      " |-- support_email: string (nullable = true)\n",
      " |-- windows: string (nullable = true)\n",
      " |-- mac: string (nullable = true)\n",
      " |-- linux: string (nullable = true)\n",
      " |-- metacritic_score: string (nullable = true)\n",
      " |-- metacritic_url: string (nullable = true)\n",
      " |-- achievements: string (nullable = true)\n",
      " |-- recommendations: string (nullable = true)\n",
      " |-- notes: string (nullable = true)\n",
      " |-- supported_languages: string (nullable = true)\n",
      " |-- full_audio_languages: string (nullable = true)\n",
      " |-- packages: string (nullable = true)\n",
      " |-- developers: string (nullable = true)\n",
      " |-- publishers: string (nullable = true)\n",
      " |-- categories: string (nullable = true)\n",
      " |-- genres: string (nullable = true)\n",
      " |-- screenshots: string (nullable = true)\n",
      " |-- movies: string (nullable = true)\n",
      " |-- user_score: string (nullable = true)\n",
      " |-- score_rank: string (nullable = true)\n",
      " |-- positive: string (nullable = true)\n",
      " |-- negative: string (nullable = true)\n",
      " |-- estimated_owners: string (nullable = true)\n",
      " |-- average_playtime_forever: string (nullable = true)\n",
      " |-- average_playtime_2weeks: string (nullable = true)\n",
      " |-- median_playtime_forever: string (nullable = true)\n",
      " |-- median_playtime_2weeks: string (nullable = true)\n",
      " |-- discount: string (nullable = true)\n",
      " |-- peak_ccu: string (nullable = true)\n",
      " |-- tags: string (nullable = true)\n",
      " |-- pct_pos_total: string (nullable = true)\n",
      " |-- num_reviews_total: string (nullable = true)\n",
      " |-- pct_pos_recent: string (nullable = true)\n",
      " |-- num_reviews_recent: string (nullable = true)\n",
      "\n",
      "Number of games: 89618\n"
     ]
    }
   ],
   "source": [
    "# Displays games_df schema and counts total # of games\n",
    "games_df.printSchema()\n",
    "print(f\"Number of games: {games_df.count()}\")"
   ]
  },
  {
   "cell_type": "code",
   "execution_count": 34,
   "id": "2e550a5a-cbfa-434d-9fba-ea53968d01c5",
   "metadata": {},
   "outputs": [
    {
     "name": "stdout",
     "output_type": "stream",
     "text": [
      "root\n",
      " |-- appid: integer (nullable = true)\n",
      " |-- name: string (nullable = true)\n",
      " |-- release_date: string (nullable = true)\n",
      " |-- required_age: string (nullable = true)\n",
      " |-- price: string (nullable = true)\n",
      " |-- dlc_count: double (nullable = true)\n",
      " |-- detailed_description: string (nullable = true)\n",
      " |-- about_the_game: string (nullable = true)\n",
      " |-- short_description: string (nullable = true)\n",
      " |-- windows: string (nullable = true)\n",
      " |-- mac: string (nullable = true)\n",
      " |-- linux: string (nullable = true)\n",
      " |-- metacritic_score: string (nullable = true)\n",
      " |-- metacritic_url: string (nullable = true)\n",
      " |-- achievements: string (nullable = true)\n",
      " |-- recommendations: string (nullable = true)\n",
      " |-- notes: string (nullable = true)\n",
      " |-- supported_languages: string (nullable = true)\n",
      " |-- packages: string (nullable = true)\n",
      " |-- developers: string (nullable = true)\n",
      " |-- publishers: string (nullable = true)\n",
      " |-- categories: string (nullable = true)\n",
      " |-- genres: string (nullable = true)\n",
      " |-- user_score: string (nullable = true)\n",
      " |-- score_rank: string (nullable = true)\n",
      " |-- positive: string (nullable = true)\n",
      " |-- negative: string (nullable = true)\n",
      " |-- estimated_owners: string (nullable = true)\n",
      " |-- average_playtime_forever: string (nullable = true)\n",
      " |-- average_playtime_2weeks: string (nullable = true)\n",
      " |-- median_playtime_forever: string (nullable = true)\n",
      " |-- median_playtime_2weeks: string (nullable = true)\n",
      " |-- discount: string (nullable = true)\n",
      " |-- peak_ccu: string (nullable = true)\n",
      " |-- tags: string (nullable = true)\n",
      " |-- pct_pos_total: string (nullable = true)\n",
      " |-- num_reviews_total: string (nullable = true)\n",
      " |-- pct_pos_recent: string (nullable = true)\n",
      " |-- num_reviews_recent: string (nullable = true)\n",
      "\n"
     ]
    }
   ],
   "source": [
    "# Removes columns not relevant for this analysis\n",
    "games_df_processed = games_df.drop(\"reviews\", \"header_image\", \"website\", \"support_url\", \"support_email\", \"full_audio_languages\", \"screenshots\", \"movies\")\n",
    "games_df_processed.printSchema()"
   ]
  },
  {
   "cell_type": "code",
   "execution_count": 35,
   "id": "2a887192-ba4e-4001-8e0c-c196eb3d8f02",
   "metadata": {},
   "outputs": [
    {
     "name": "stdout",
     "output_type": "stream",
     "text": [
      "Number of games: 89618\n",
      "Number of games: 89618\n",
      "Number of games: 89618\n"
     ]
    }
   ],
   "source": [
    "# Drops rows that contain null values or duplicates in the appid column\n",
    "print(f\"Number of games: {games_df_processed.count()}\")\n",
    "games_df_processed = games_df_processed.na.drop(subset=[\"appid\"])\n",
    "print(f\"Number of games: {games_df_processed.count()}\")\n",
    "games_df_processed = games_df_processed.dropDuplicates(subset=[\"appid\"])\n",
    "print(f\"Number of games: {games_df_processed.count()}\")"
   ]
  },
  {
   "cell_type": "code",
   "execution_count": null,
   "id": "1383ad81-52e0-4219-a938-eabb3fe9aa81",
   "metadata": {},
   "outputs": [],
   "source": [
    "# Cast columns to appropriate data types based ond descriptions on Kaggle\n",
    "games_df_processed = games_df_processed.withColumn(\"release_date\", f.to_timestamp(\"release_date\", \"yyyy-MM-dd\"))\n",
    "games_df_processed.printSchema()"
   ]
  },
  {
   "cell_type": "code",
   "execution_count": 37,
   "id": "bdad7111-c837-4a77-913b-c4596dcc5fba",
   "metadata": {},
   "outputs": [
    {
     "name": "stdout",
     "output_type": "stream",
     "text": [
      "+------------+\n",
      "|release_date|\n",
      "+------------+\n",
      "|  1999-04-01|\n",
      "|  2010-07-12|\n",
      "|  2006-05-01|\n",
      "|  2007-10-10|\n",
      "|  2013-07-09|\n",
      "+------------+\n",
      "only showing top 5 rows\n",
      "\n",
      "+-------------------+\n",
      "|       release_date|\n",
      "+-------------------+\n",
      "|1999-04-01 00:00:00|\n",
      "|2010-07-12 00:00:00|\n",
      "|2006-05-01 00:00:00|\n",
      "|2007-10-10 00:00:00|\n",
      "|2013-07-09 00:00:00|\n",
      "+-------------------+\n",
      "only showing top 5 rows\n",
      "\n"
     ]
    }
   ],
   "source": [
    "# Cast columns to appropriate data types based ond descriptions on Kaggle\n",
    "games_df_processed.select(\"release_date\").show(5)\n",
    "games_df_processed = games_df_processed.withColumn(\"release_date\", f.to_timestamp(\"release_date\", \"yyyy-MM-dd\"))\n",
    "games_df_processed.select(\"release_date\").show(5)"
   ]
  },
  {
   "cell_type": "code",
   "execution_count": 28,
   "id": "822ef72e-85e9-4d9c-9906-e3802cc9a853",
   "metadata": {},
   "outputs": [
    {
     "name": "stdout",
     "output_type": "stream",
     "text": [
      "+-------+--------------------+--------------------+\n",
      "|  appid|                game|                name|\n",
      "+-------+--------------------+--------------------+\n",
      "|1172380|STAR WARS Jedi: F...|STAR WARS Jedi: F...|\n",
      "|1172620|      Sea of Thieves|Sea of Thieves: 2...|\n",
      "|1172470|        Apex Legends|       Apex Legends™|\n",
      "|1481400|               Dagon|Dagon: by H. P. L...|\n",
      "| 289070|Sid Meier's Civil...|Sid Meier’s Civil...|\n",
      "| 271590|  Grand Theft Auto V|Grand Theft Auto ...|\n",
      "|1172470|        Apex Legends|       Apex Legends™|\n",
      "| 359550|Tom Clancy's Rain...|Tom Clancy's Rain...|\n",
      "| 391220|Rise of the Tomb ...|Rise of the Tomb ...|\n",
      "| 311210|Call of Duty: Bla...|Call of Duty®: Bl...|\n",
      "|1238860|     Battlefield 4™ |      Battlefield 4™|\n",
      "| 252950|       Rocket League|      Rocket League®|\n",
      "|1313860| EA SPORTS™ FIFA 21 |  EA SPORTS™ FIFA 21|\n",
      "|1222680|Need for Speed™ H...|Need for Speed™ Heat|\n",
      "|1481400|               Dagon|Dagon: by H. P. L...|\n",
      "| 698780|Doki Doki Literat...|Doki Doki Literat...|\n",
      "| 563840|          Lost Ember|          LOST EMBER|\n",
      "|1238020|Mass Effect 3 (2012)|Mass Effect™ 3 N7...|\n",
      "| 555160|           Pavlov VR|              Pavlov|\n",
      "| 211600|          Thief Gold|         Thief™ Gold|\n",
      "+-------+--------------------+--------------------+\n",
      "only showing top 20 rows\n",
      "\n",
      "6403128\n"
     ]
    }
   ],
   "source": [
    "# Verify that appid's match between the two datasets\n",
    "joined = reviews_df_processed_metadata.select(\"appid\", \"game\").alias(\"df1\").join(\n",
    "    games_df_processed.select(\"appid\", \"name\").alias(\"df2\"), on=\"appid\", how=\"inner\").filter(\n",
    "    \"df1.game != df2.name\")\n",
    "joined.show()"
   ]
  },
  {
   "cell_type": "code",
   "execution_count": 29,
   "id": "6253808e-6aaa-42a3-ae9e-1510ee209302",
   "metadata": {},
   "outputs": [
    {
     "name": "stdout",
     "output_type": "stream",
     "text": [
      "root\n",
      " |-- recommendationid: string (nullable = true)\n",
      " |-- appid: string (nullable = true)\n",
      " |-- author_steamid: string (nullable = true)\n",
      " |-- author_num_games_owned: integer (nullable = true)\n",
      " |-- author_num_reviews: integer (nullable = true)\n",
      " |-- author_playtime_forever: integer (nullable = true)\n",
      " |-- author_playtime_last_two_weeks: integer (nullable = true)\n",
      " |-- author_playtime_at_review: integer (nullable = true)\n",
      " |-- author_last_played: timestamp (nullable = true)\n",
      " |-- language: string (nullable = true)\n",
      " |-- timestamp_created: timestamp (nullable = true)\n",
      " |-- timestamp_updated: timestamp (nullable = true)\n",
      " |-- votes_up: integer (nullable = true)\n",
      " |-- votes_funny: integer (nullable = true)\n",
      " |-- weighted_vote_score: double (nullable = true)\n",
      " |-- comment_count: integer (nullable = true)\n",
      " |-- steam_purchase: boolean (nullable = true)\n",
      " |-- received_for_free: boolean (nullable = true)\n",
      " |-- written_during_early_access: boolean (nullable = true)\n",
      "\n"
     ]
    }
   ],
   "source": [
    "# Dropping the game name from the first dataset (100+ Million Reviews), will use the game name from the second dataset (Steam Games)\n",
    "reviews_df_processed_metadata = reviews_df_processed_metadata.drop(\"game\")\n",
    "reviews_df_processed_metadata.printSchema()"
   ]
  },
  {
   "cell_type": "code",
   "execution_count": null,
   "id": "00ba4ffb-d393-4a39-a348-5b351c5cd747",
   "metadata": {},
   "outputs": [],
   "source": [
    "# Save processed dataframes as parquet files\n",
    "# reviews_df_processed.write.mode(\"overwrite\").parquet(\"home/joneel/joneel/Group_Project/reviews_processed\")\n",
    "# games_df_processed.write.mode(\"overwrite\").parquet(\"home/joneel/joneel/Group_Project/games_processed\")"
   ]
  },
  {
   "cell_type": "code",
   "execution_count": null,
   "id": "994fcbc4-fcc7-4063-8338-94d0da3b1812",
   "metadata": {},
   "outputs": [],
   "source": [
    "\"Tokenize reviews, see # of reviews per author, break down tags and genres\"\n",
    "\"Make some plots to see data distributions (# of reviews, reviews per author, dates, best and worst reviewed games?)\""
   ]
  }
 ],
 "metadata": {
  "kernelspec": {
   "display_name": "Python 3 (ipykernel)",
   "language": "python",
   "name": "python3"
  },
  "language_info": {
   "codemirror_mode": {
    "name": "ipython",
    "version": 3
   },
   "file_extension": ".py",
   "mimetype": "text/x-python",
   "name": "python",
   "nbconvert_exporter": "python",
   "pygments_lexer": "ipython3",
   "version": "3.11.6"
  }
 },
 "nbformat": 4,
 "nbformat_minor": 5
}
