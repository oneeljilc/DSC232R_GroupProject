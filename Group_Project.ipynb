{
 "cells": [
  {
   "cell_type": "markdown",
   "id": "6ebe255e-3a4f-44af-9ef3-7960e2a4a879",
   "metadata": {},
   "source": [
    "# Part 0: Raw Data & Environment Set-up"
   ]
  },
  {
   "cell_type": "markdown",
   "id": "87ce0912-dc4a-4d9d-8dc4-588c9d756224",
   "metadata": {
    "jp-MarkdownHeadingCollapsed": true
   },
   "source": [
    "## Raw Data"
   ]
  },
  {
   "cell_type": "markdown",
   "id": "1df7e34c-3466-4d1a-b2b3-bfde676872b6",
   "metadata": {},
   "source": [
    "The following code loads in and unzips the raw data. Raw data has been downloaded from Kaggle placed into public Google Cloud Storage for ease of access."
   ]
  },
  {
   "cell_type": "code",
   "execution_count": 2,
   "id": "a2bd2891-a891-416f-b976-1e7fce14d3d2",
   "metadata": {},
   "outputs": [
    {
     "name": "stdout",
     "output_type": "stream",
     "text": [
      "--2025-05-03 20:58:20--  https://storage.googleapis.com/dsc232r-group-project-data/steam-reviews.zip\n",
      "Resolving storage.googleapis.com (storage.googleapis.com)... 172.217.14.91, 142.250.176.27, 142.250.189.27, ...\n",
      "Connecting to storage.googleapis.com (storage.googleapis.com)|172.217.14.91|:443... connected.\n",
      "HTTP request sent, awaiting response... 200 OK\n",
      "Length: 17241297932 (16G) [application/x-zip-compressed]\n",
      "Saving to: ‘steam-reviews.zip’\n",
      "\n",
      "steam-reviews.zip   100%[===================>]  16.06G   111MB/s    in 2m 25s  \n",
      "\n",
      "2025-05-03 21:00:46 (113 MB/s) - ‘steam-reviews.zip’ saved [17241297932/17241297932]\n",
      "\n"
     ]
    }
   ],
   "source": [
    "url1 = (\"https://storage.googleapis.com/dsc232r-group-project-data/steam-reviews.zip\")\n",
    "!wget \"{url1}\""
   ]
  },
  {
   "cell_type": "code",
   "execution_count": 3,
   "id": "27f2ae2d-bac0-4ae2-b547-14ab39dba3de",
   "metadata": {},
   "outputs": [
    {
     "name": "stdout",
     "output_type": "stream",
     "text": [
      "Archive:  steam-reviews.zip\n",
      "  inflating: /home/joneel/joneel/Group_Project/raw_data/steam-reviews/all_reviews/all_reviews.csv  \n",
      "  inflating: /home/joneel/joneel/Group_Project/raw_data/steam-reviews/weighted_score_above_08.csv  \n"
     ]
    }
   ],
   "source": [
    "!unzip steam-reviews.zip -d /home/joneel/joneel/Group_Project/raw_data/steam-reviews && rm steam-reviews.zip"
   ]
  },
  {
   "cell_type": "code",
   "execution_count": 4,
   "id": "b7f86872-6b6a-4804-a9b0-8a0167fbd5a2",
   "metadata": {},
   "outputs": [
    {
     "name": "stdout",
     "output_type": "stream",
     "text": [
      "--2025-05-03 21:07:36--  https://storage.googleapis.com/dsc232r-group-project-data/steam-games.zip\n",
      "Resolving storage.googleapis.com (storage.googleapis.com)... 142.250.68.59, 142.250.72.155, 142.250.68.91, ...\n",
      "Connecting to storage.googleapis.com (storage.googleapis.com)|142.250.68.59|:443... connected.\n",
      "HTTP request sent, awaiting response... 200 OK\n",
      "Length: 252274279 (241M) [application/x-zip-compressed]\n",
      "Saving to: ‘steam-games.zip’\n",
      "\n",
      "steam-games.zip     100%[===================>] 240.59M  97.6MB/s    in 2.5s    \n",
      "\n",
      "2025-05-03 21:07:39 (97.6 MB/s) - ‘steam-games.zip’ saved [252274279/252274279]\n",
      "\n"
     ]
    }
   ],
   "source": [
    "url2 = (\"https://storage.googleapis.com/dsc232r-group-project-data/steam-games.zip\")\n",
    "!wget \"{url2}\""
   ]
  },
  {
   "cell_type": "code",
   "execution_count": 5,
   "id": "ce5e53f5-ff52-46c6-ac68-e4ec0e2f25f0",
   "metadata": {},
   "outputs": [
    {
     "name": "stdout",
     "output_type": "stream",
     "text": [
      "Archive:  steam-games.zip\n",
      "  inflating: /home/joneel/joneel/Group_Project/raw_data/steam-games/games.csv  \n",
      "  inflating: /home/joneel/joneel/Group_Project/raw_data/steam-games/games.json  \n"
     ]
    }
   ],
   "source": [
    "!unzip steam-games.zip -d /home/joneel/joneel/Group_Project/raw_data/steam-games && rm steam-games.zip"
   ]
  },
  {
   "cell_type": "markdown",
   "id": "c8cf6eb9-2275-432f-a249-5bbf345329df",
   "metadata": {},
   "source": [
    "## Environment Set-up"
   ]
  },
  {
   "cell_type": "markdown",
   "id": "1bed7c62-dcc8-431b-9972-cf754dc6f002",
   "metadata": {},
   "source": [
    "Set-up on the cluster included 30 cores with 60GB memory in order to load and process this dataset (total ~45GB)."
   ]
  },
  {
   "cell_type": "code",
   "execution_count": 2,
   "id": "547c0e23-fd38-4653-af38-87ee9a03e297",
   "metadata": {},
   "outputs": [],
   "source": [
    "import os, pickle, glob\n",
    "from pyspark.sql import SparkSession\n",
    "from pyspark.sql import functions as f"
   ]
  },
  {
   "cell_type": "code",
   "execution_count": 3,
   "id": "67f28e6b-6aeb-499d-ab0c-59965f288ccd",
   "metadata": {},
   "outputs": [],
   "source": [
    "sc = SparkSession.builder \\\n",
    "    .config(\"spark.driver.memory\", \"2g\") \\\n",
    "\t.config(\"spark.executor.memory\", \"2g\") \\\n",
    "    .config('spark.executor.instances', 29) \\\n",
    "\t.appName(\"Review_Analysis\") \\\n",
    "\t.getOrCreate()"
   ]
  },
  {
   "cell_type": "code",
   "execution_count": 4,
   "id": "b39166eb-9951-4a97-a532-4a703c4b0cde",
   "metadata": {},
   "outputs": [],
   "source": [
    "reviews_df = sc.read.csv(\"/home/joneel/joneel/Group_Project/raw_data/steam-reviews/all_reviews/all_reviews.csv\", header=True, inferSchema=True)"
   ]
  },
  {
   "cell_type": "code",
   "execution_count": 5,
   "id": "7d14bdec-707d-4266-91bb-b05e9066797c",
   "metadata": {},
   "outputs": [
    {
     "name": "stdout",
     "output_type": "stream",
     "text": [
      "root\n",
      " |-- recommendationid: string (nullable = true)\n",
      " |-- appid: string (nullable = true)\n",
      " |-- game: string (nullable = true)\n",
      " |-- author_steamid: string (nullable = true)\n",
      " |-- author_num_games_owned: string (nullable = true)\n",
      " |-- author_num_reviews: string (nullable = true)\n",
      " |-- author_playtime_forever: string (nullable = true)\n",
      " |-- author_playtime_last_two_weeks: string (nullable = true)\n",
      " |-- author_playtime_at_review: string (nullable = true)\n",
      " |-- author_last_played: string (nullable = true)\n",
      " |-- language: string (nullable = true)\n",
      " |-- review: string (nullable = true)\n",
      " |-- timestamp_created: string (nullable = true)\n",
      " |-- timestamp_updated: string (nullable = true)\n",
      " |-- voted_up: string (nullable = true)\n",
      " |-- votes_up: string (nullable = true)\n",
      " |-- votes_funny: string (nullable = true)\n",
      " |-- weighted_vote_score: string (nullable = true)\n",
      " |-- comment_count: string (nullable = true)\n",
      " |-- steam_purchase: string (nullable = true)\n",
      " |-- received_for_free: string (nullable = true)\n",
      " |-- written_during_early_access: string (nullable = true)\n",
      " |-- hidden_in_steam_china: string (nullable = true)\n",
      " |-- steam_china_location: string (nullable = true)\n",
      "\n",
      "Number of reviews: 113885601\n"
     ]
    }
   ],
   "source": [
    "reviews_df.printSchema()\n",
    "print(f\"Number of reviews: {reviews_df.count()}\")"
   ]
  },
  {
   "cell_type": "code",
   "execution_count": 6,
   "id": "e5f0fbad-bd70-46ff-b9d0-27a004aa8671",
   "metadata": {},
   "outputs": [
    {
     "name": "stdout",
     "output_type": "stream",
     "text": [
      "root\n",
      " |-- recommendationid: string (nullable = true)\n",
      " |-- appid: string (nullable = true)\n",
      " |-- game: string (nullable = true)\n",
      " |-- author_steamid: string (nullable = true)\n",
      " |-- author_num_games_owned: string (nullable = true)\n",
      " |-- author_num_reviews: string (nullable = true)\n",
      " |-- author_playtime_forever: string (nullable = true)\n",
      " |-- author_playtime_last_two_weeks: string (nullable = true)\n",
      " |-- author_playtime_at_review: string (nullable = true)\n",
      " |-- language: string (nullable = true)\n",
      " |-- review: string (nullable = true)\n",
      " |-- timestamp_created: string (nullable = true)\n",
      " |-- timestamp_updated: string (nullable = true)\n",
      " |-- voted_up: string (nullable = true)\n",
      " |-- votes_up: string (nullable = true)\n",
      " |-- votes_funny: string (nullable = true)\n",
      " |-- weighted_vote_score: string (nullable = true)\n",
      " |-- comment_count: string (nullable = true)\n",
      " |-- steam_purchase: string (nullable = true)\n",
      " |-- received_for_free: string (nullable = true)\n",
      " |-- written_during_early_access: string (nullable = true)\n",
      "\n"
     ]
    }
   ],
   "source": [
    "reviews_df = reviews_df.drop(\"author_last_played\", \"hidden_in_steam_china\", \"steam_china_location\")\n",
    "reviews_df.printSchema()"
   ]
  },
  {
   "cell_type": "code",
   "execution_count": 11,
   "id": "1cefbc1b-19b1-42f5-bc9d-dc5c31c4a13c",
   "metadata": {},
   "outputs": [
    {
     "name": "stdout",
     "output_type": "stream",
     "text": [
      "+----------+\n",
      "|  language|\n",
      "+----------+\n",
      "|   koreana|\n",
      "|     greek|\n",
      "|   russian|\n",
      "|    danish|\n",
      "|         0|\n",
      "|     dutch|\n",
      "|  tchinese|\n",
      "|    german|\n",
      "|   spanish|\n",
      "|    french|\n",
      "|vietnamese|\n",
      "|  schinese|\n",
      "|   italian|\n",
      "|   swedish|\n",
      "|      thai|\n",
      "| bulgarian|\n",
      "|   turkish|\n",
      "|   finnish|\n",
      "|portuguese|\n",
      "|  japanese|\n",
      "| ukrainian|\n",
      "|   english|\n",
      "|    polish|\n",
      "|     latam|\n",
      "| hungarian|\n",
      "+----------+\n",
      "only showing top 25 rows\n",
      "\n"
     ]
    }
   ],
   "source": [
    "reviews_df.select(\"language\").distinct().show(25)"
   ]
  },
  {
   "cell_type": "code",
   "execution_count": 14,
   "id": "4fd8c8e2-a957-48b6-8826-e4f75704e48b",
   "metadata": {},
   "outputs": [
    {
     "name": "stdout",
     "output_type": "stream",
     "text": [
      "+--------+\n",
      "|language|\n",
      "+--------+\n",
      "| english|\n",
      "+--------+\n",
      "\n",
      "Number of reviews: 51544179\n"
     ]
    }
   ],
   "source": [
    "reviews_df_processed = reviews_df.filter(reviews_df.language == 'english')\n",
    "reviews_df_processed.select(\"language\").distinct().show()\n",
    "print(f\"Number of reviews: {reviews_df_processed.count()}\")"
   ]
  },
  {
   "cell_type": "code",
   "execution_count": null,
   "id": "2050565b-e9ba-4cc6-9390-2198743ea07e",
   "metadata": {},
   "outputs": [],
   "source": [
    "games_df = sc.read.csv(\"/home/joneel/joneel/Group_Project/raw_data/steam-games/games.csv\", header=True, inferSchema=True)"
   ]
  }
 ],
 "metadata": {
  "kernelspec": {
   "display_name": "Python 3 (ipykernel)",
   "language": "python",
   "name": "python3"
  },
  "language_info": {
   "codemirror_mode": {
    "name": "ipython",
    "version": 3
   },
   "file_extension": ".py",
   "mimetype": "text/x-python",
   "name": "python",
   "nbconvert_exporter": "python",
   "pygments_lexer": "ipython3",
   "version": "3.11.6"
  }
 },
 "nbformat": 4,
 "nbformat_minor": 5
}
